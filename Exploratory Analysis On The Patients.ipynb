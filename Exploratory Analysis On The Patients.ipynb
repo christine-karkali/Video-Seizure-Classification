{
 "cells": [
  {
   "cell_type": "markdown",
   "id": "990ea334-2287-4610-86df-7ab9b85c2e8b",
   "metadata": {},
   "source": [
    "<div style=\"text-align: center\"> <h1>Statistical Analysis of 68 patients with Epileptic Seizures</h1></div>"
   ]
  },
  {
   "cell_type": "code",
   "execution_count": 1,
   "id": "ccaeeace-847a-4f0c-887f-e9b837715cff",
   "metadata": {},
   "outputs": [],
   "source": [
    "#Libraries\n",
    "import pandas as pd\n",
    "import matplotlib\n",
    "from matplotlib import pyplot as plt\n",
    "import numpy as np"
   ]
  },
  {
   "cell_type": "code",
   "execution_count": 2,
   "id": "10d6fcbc-725d-4455-8a97-c51f83efbc5b",
   "metadata": {},
   "outputs": [
    {
     "data": {
      "text/html": [
       "<div>\n",
       "<style scoped>\n",
       "    .dataframe tbody tr th:only-of-type {\n",
       "        vertical-align: middle;\n",
       "    }\n",
       "\n",
       "    .dataframe tbody tr th {\n",
       "        vertical-align: top;\n",
       "    }\n",
       "\n",
       "    .dataframe thead th {\n",
       "        text-align: right;\n",
       "    }\n",
       "</style>\n",
       "<table border=\"1\" class=\"dataframe\">\n",
       "  <thead>\n",
       "    <tr style=\"text-align: right;\">\n",
       "      <th></th>\n",
       "      <th>Subject</th>\n",
       "      <th>Seizure</th>\n",
       "      <th>OnsetClonic</th>\n",
       "      <th>GTCS</th>\n",
       "      <th>Discard</th>\n",
       "    </tr>\n",
       "  </thead>\n",
       "  <tbody>\n",
       "    <tr>\n",
       "      <th>0</th>\n",
       "      <td>6</td>\n",
       "      <td>1</td>\n",
       "      <td>37.0</td>\n",
       "      <td>True</td>\n",
       "      <td>No</td>\n",
       "    </tr>\n",
       "    <tr>\n",
       "      <th>1</th>\n",
       "      <td>6</td>\n",
       "      <td>2</td>\n",
       "      <td>NaN</td>\n",
       "      <td>False</td>\n",
       "      <td>No</td>\n",
       "    </tr>\n",
       "    <tr>\n",
       "      <th>2</th>\n",
       "      <td>12</td>\n",
       "      <td>1</td>\n",
       "      <td>42.0</td>\n",
       "      <td>True</td>\n",
       "      <td>No</td>\n",
       "    </tr>\n",
       "    <tr>\n",
       "      <th>3</th>\n",
       "      <td>15</td>\n",
       "      <td>1</td>\n",
       "      <td>96.0</td>\n",
       "      <td>True</td>\n",
       "      <td>No</td>\n",
       "    </tr>\n",
       "    <tr>\n",
       "      <th>4</th>\n",
       "      <td>16</td>\n",
       "      <td>1</td>\n",
       "      <td>39.0</td>\n",
       "      <td>True</td>\n",
       "      <td>No</td>\n",
       "    </tr>\n",
       "    <tr>\n",
       "      <th>...</th>\n",
       "      <td>...</td>\n",
       "      <td>...</td>\n",
       "      <td>...</td>\n",
       "      <td>...</td>\n",
       "      <td>...</td>\n",
       "    </tr>\n",
       "    <tr>\n",
       "      <th>215</th>\n",
       "      <td>321</td>\n",
       "      <td>12</td>\n",
       "      <td>NaN</td>\n",
       "      <td>False</td>\n",
       "      <td>No</td>\n",
       "    </tr>\n",
       "    <tr>\n",
       "      <th>216</th>\n",
       "      <td>321</td>\n",
       "      <td>13</td>\n",
       "      <td>NaN</td>\n",
       "      <td>False</td>\n",
       "      <td>No</td>\n",
       "    </tr>\n",
       "    <tr>\n",
       "      <th>217</th>\n",
       "      <td>321</td>\n",
       "      <td>14</td>\n",
       "      <td>NaN</td>\n",
       "      <td>False</td>\n",
       "      <td>No</td>\n",
       "    </tr>\n",
       "    <tr>\n",
       "      <th>218</th>\n",
       "      <td>321</td>\n",
       "      <td>15</td>\n",
       "      <td>57.0</td>\n",
       "      <td>True</td>\n",
       "      <td>Small</td>\n",
       "    </tr>\n",
       "    <tr>\n",
       "      <th>219</th>\n",
       "      <td>321</td>\n",
       "      <td>16</td>\n",
       "      <td>NaN</td>\n",
       "      <td>False</td>\n",
       "      <td>No</td>\n",
       "    </tr>\n",
       "  </tbody>\n",
       "</table>\n",
       "<p>220 rows × 5 columns</p>\n",
       "</div>"
      ],
      "text/plain": [
       "     Subject  Seizure  OnsetClonic   GTCS Discard\n",
       "0          6        1         37.0   True      No\n",
       "1          6        2          NaN  False      No\n",
       "2         12        1         42.0   True      No\n",
       "3         15        1         96.0   True      No\n",
       "4         16        1         39.0   True      No\n",
       "..       ...      ...          ...    ...     ...\n",
       "215      321       12          NaN  False      No\n",
       "216      321       13          NaN  False      No\n",
       "217      321       14          NaN  False      No\n",
       "218      321       15         57.0   True   Small\n",
       "219      321       16          NaN  False      No\n",
       "\n",
       "[220 rows x 5 columns]"
      ]
     },
     "execution_count": 2,
     "metadata": {},
     "output_type": "execute_result"
    }
   ],
   "source": [
    "#Reading our csv file with information regarding the patients we are investigating on\n",
    "df = pd.read_csv(\"seizures.csv\")\n",
    "#print dataframe\n",
    "df"
   ]
  },
  {
   "cell_type": "code",
   "execution_count": 3,
   "id": "df78da1b-c6a0-4fad-ab59-d9b7f2ddc4a2",
   "metadata": {},
   "outputs": [
    {
     "name": "stdout",
     "output_type": "stream",
     "text": [
      "(220, 5)\n"
     ]
    }
   ],
   "source": [
    "print(df.shape) #print the size of the dataframe "
   ]
  },
  {
   "cell_type": "markdown",
   "id": "a2aa4e43-d06f-449e-8ef3-329ff061a5b3",
   "metadata": {},
   "source": [
    "<div style=\"text-align: left\"> <h3>I have 220 seizures/rows with 5 columns giving characteristics for each case.</h3></div>"
   ]
  },
  {
   "cell_type": "code",
   "execution_count": 4,
   "id": "4810bb53-7172-4629-8ace-2191447f9a02",
   "metadata": {},
   "outputs": [
    {
     "data": {
      "text/html": [
       "<div>\n",
       "<style scoped>\n",
       "    .dataframe tbody tr th:only-of-type {\n",
       "        vertical-align: middle;\n",
       "    }\n",
       "\n",
       "    .dataframe tbody tr th {\n",
       "        vertical-align: top;\n",
       "    }\n",
       "\n",
       "    .dataframe thead th {\n",
       "        text-align: right;\n",
       "    }\n",
       "</style>\n",
       "<table border=\"1\" class=\"dataframe\">\n",
       "  <thead>\n",
       "    <tr style=\"text-align: right;\">\n",
       "      <th></th>\n",
       "      <th>Subject</th>\n",
       "      <th>Seizure</th>\n",
       "      <th>OnsetClonic</th>\n",
       "      <th>GTCS</th>\n",
       "      <th>Discard</th>\n",
       "    </tr>\n",
       "  </thead>\n",
       "  <tbody>\n",
       "    <tr>\n",
       "      <th>0</th>\n",
       "      <td>6</td>\n",
       "      <td>1</td>\n",
       "      <td>37.0</td>\n",
       "      <td>True</td>\n",
       "      <td>No</td>\n",
       "    </tr>\n",
       "    <tr>\n",
       "      <th>2</th>\n",
       "      <td>12</td>\n",
       "      <td>1</td>\n",
       "      <td>42.0</td>\n",
       "      <td>True</td>\n",
       "      <td>No</td>\n",
       "    </tr>\n",
       "    <tr>\n",
       "      <th>3</th>\n",
       "      <td>15</td>\n",
       "      <td>1</td>\n",
       "      <td>96.0</td>\n",
       "      <td>True</td>\n",
       "      <td>No</td>\n",
       "    </tr>\n",
       "    <tr>\n",
       "      <th>4</th>\n",
       "      <td>16</td>\n",
       "      <td>1</td>\n",
       "      <td>39.0</td>\n",
       "      <td>True</td>\n",
       "      <td>No</td>\n",
       "    </tr>\n",
       "    <tr>\n",
       "      <th>5</th>\n",
       "      <td>23</td>\n",
       "      <td>4</td>\n",
       "      <td>123.0</td>\n",
       "      <td>True</td>\n",
       "      <td>No</td>\n",
       "    </tr>\n",
       "    <tr>\n",
       "      <th>...</th>\n",
       "      <td>...</td>\n",
       "      <td>...</td>\n",
       "      <td>...</td>\n",
       "      <td>...</td>\n",
       "      <td>...</td>\n",
       "    </tr>\n",
       "    <tr>\n",
       "      <th>198</th>\n",
       "      <td>308</td>\n",
       "      <td>1</td>\n",
       "      <td>54.0</td>\n",
       "      <td>True</td>\n",
       "      <td>No</td>\n",
       "    </tr>\n",
       "    <tr>\n",
       "      <th>199</th>\n",
       "      <td>317</td>\n",
       "      <td>1</td>\n",
       "      <td>79.0</td>\n",
       "      <td>True</td>\n",
       "      <td>No</td>\n",
       "    </tr>\n",
       "    <tr>\n",
       "      <th>200</th>\n",
       "      <td>317</td>\n",
       "      <td>2</td>\n",
       "      <td>53.0</td>\n",
       "      <td>True</td>\n",
       "      <td>No</td>\n",
       "    </tr>\n",
       "    <tr>\n",
       "      <th>201</th>\n",
       "      <td>317</td>\n",
       "      <td>3</td>\n",
       "      <td>57.0</td>\n",
       "      <td>True</td>\n",
       "      <td>No</td>\n",
       "    </tr>\n",
       "    <tr>\n",
       "      <th>218</th>\n",
       "      <td>321</td>\n",
       "      <td>15</td>\n",
       "      <td>57.0</td>\n",
       "      <td>True</td>\n",
       "      <td>Small</td>\n",
       "    </tr>\n",
       "  </tbody>\n",
       "</table>\n",
       "<p>72 rows × 5 columns</p>\n",
       "</div>"
      ],
      "text/plain": [
       "     Subject  Seizure  OnsetClonic  GTCS Discard\n",
       "0          6        1         37.0  True      No\n",
       "2         12        1         42.0  True      No\n",
       "3         15        1         96.0  True      No\n",
       "4         16        1         39.0  True      No\n",
       "5         23        4        123.0  True      No\n",
       "..       ...      ...          ...   ...     ...\n",
       "198      308        1         54.0  True      No\n",
       "199      317        1         79.0  True      No\n",
       "200      317        2         53.0  True      No\n",
       "201      317        3         57.0  True      No\n",
       "218      321       15         57.0  True   Small\n",
       "\n",
       "[72 rows x 5 columns]"
      ]
     },
     "execution_count": 4,
     "metadata": {},
     "output_type": "execute_result"
    }
   ],
   "source": [
    "#Getting all the subjects and their seizures which are tonic-clonic/generalized cases.\n",
    "generalized = df[df.GTCS == True] \n",
    "generalized"
   ]
  },
  {
   "cell_type": "code",
   "execution_count": 5,
   "id": "577e19f6-8ae1-434a-ab4b-07dc88c3c95c",
   "metadata": {},
   "outputs": [
    {
     "data": {
      "text/html": [
       "<div>\n",
       "<style scoped>\n",
       "    .dataframe tbody tr th:only-of-type {\n",
       "        vertical-align: middle;\n",
       "    }\n",
       "\n",
       "    .dataframe tbody tr th {\n",
       "        vertical-align: top;\n",
       "    }\n",
       "\n",
       "    .dataframe thead th {\n",
       "        text-align: right;\n",
       "    }\n",
       "</style>\n",
       "<table border=\"1\" class=\"dataframe\">\n",
       "  <thead>\n",
       "    <tr style=\"text-align: right;\">\n",
       "      <th></th>\n",
       "      <th>Subject</th>\n",
       "      <th>Seizure</th>\n",
       "      <th>OnsetClonic</th>\n",
       "      <th>GTCS</th>\n",
       "      <th>Discard</th>\n",
       "    </tr>\n",
       "  </thead>\n",
       "  <tbody>\n",
       "    <tr>\n",
       "      <th>1</th>\n",
       "      <td>6</td>\n",
       "      <td>2</td>\n",
       "      <td>NaN</td>\n",
       "      <td>False</td>\n",
       "      <td>No</td>\n",
       "    </tr>\n",
       "    <tr>\n",
       "      <th>8</th>\n",
       "      <td>30</td>\n",
       "      <td>2</td>\n",
       "      <td>NaN</td>\n",
       "      <td>False</td>\n",
       "      <td>Small</td>\n",
       "    </tr>\n",
       "    <tr>\n",
       "      <th>9</th>\n",
       "      <td>30</td>\n",
       "      <td>3</td>\n",
       "      <td>NaN</td>\n",
       "      <td>False</td>\n",
       "      <td>No</td>\n",
       "    </tr>\n",
       "    <tr>\n",
       "      <th>10</th>\n",
       "      <td>30</td>\n",
       "      <td>4</td>\n",
       "      <td>NaN</td>\n",
       "      <td>False</td>\n",
       "      <td>No</td>\n",
       "    </tr>\n",
       "    <tr>\n",
       "      <th>11</th>\n",
       "      <td>34</td>\n",
       "      <td>3</td>\n",
       "      <td>NaN</td>\n",
       "      <td>False</td>\n",
       "      <td>No</td>\n",
       "    </tr>\n",
       "    <tr>\n",
       "      <th>...</th>\n",
       "      <td>...</td>\n",
       "      <td>...</td>\n",
       "      <td>...</td>\n",
       "      <td>...</td>\n",
       "      <td>...</td>\n",
       "    </tr>\n",
       "    <tr>\n",
       "      <th>214</th>\n",
       "      <td>321</td>\n",
       "      <td>11</td>\n",
       "      <td>NaN</td>\n",
       "      <td>False</td>\n",
       "      <td>No</td>\n",
       "    </tr>\n",
       "    <tr>\n",
       "      <th>215</th>\n",
       "      <td>321</td>\n",
       "      <td>12</td>\n",
       "      <td>NaN</td>\n",
       "      <td>False</td>\n",
       "      <td>No</td>\n",
       "    </tr>\n",
       "    <tr>\n",
       "      <th>216</th>\n",
       "      <td>321</td>\n",
       "      <td>13</td>\n",
       "      <td>NaN</td>\n",
       "      <td>False</td>\n",
       "      <td>No</td>\n",
       "    </tr>\n",
       "    <tr>\n",
       "      <th>217</th>\n",
       "      <td>321</td>\n",
       "      <td>14</td>\n",
       "      <td>NaN</td>\n",
       "      <td>False</td>\n",
       "      <td>No</td>\n",
       "    </tr>\n",
       "    <tr>\n",
       "      <th>219</th>\n",
       "      <td>321</td>\n",
       "      <td>16</td>\n",
       "      <td>NaN</td>\n",
       "      <td>False</td>\n",
       "      <td>No</td>\n",
       "    </tr>\n",
       "  </tbody>\n",
       "</table>\n",
       "<p>148 rows × 5 columns</p>\n",
       "</div>"
      ],
      "text/plain": [
       "     Subject  Seizure  OnsetClonic   GTCS Discard\n",
       "1          6        2          NaN  False      No\n",
       "8         30        2          NaN  False   Small\n",
       "9         30        3          NaN  False      No\n",
       "10        30        4          NaN  False      No\n",
       "11        34        3          NaN  False      No\n",
       "..       ...      ...          ...    ...     ...\n",
       "214      321       11          NaN  False      No\n",
       "215      321       12          NaN  False      No\n",
       "216      321       13          NaN  False      No\n",
       "217      321       14          NaN  False      No\n",
       "219      321       16          NaN  False      No\n",
       "\n",
       "[148 rows x 5 columns]"
      ]
     },
     "execution_count": 5,
     "metadata": {},
     "output_type": "execute_result"
    }
   ],
   "source": [
    "#Getting all the subjects and their seizures which are focal cases\n",
    "focal = df[df.GTCS == False]\n",
    "focal"
   ]
  },
  {
   "cell_type": "code",
   "execution_count": 6,
   "id": "d28d1da2-ca22-424b-a0c2-6101c041d26f",
   "metadata": {},
   "outputs": [
    {
     "name": "stdout",
     "output_type": "stream",
     "text": [
      "We have 72 generalized cases.\n"
     ]
    }
   ],
   "source": [
    "generalized = df.Subject[df.GTCS == True] \n",
    "generalized\n",
    "count_gen = len(generalized.axes[0])\n",
    "print(\"We have \"+str(count_gen)+\" generalized cases.\")"
   ]
  },
  {
   "cell_type": "code",
   "execution_count": 7,
   "id": "d6f73cba-e0b2-4b4a-8b2b-0dd53c763c08",
   "metadata": {},
   "outputs": [
    {
     "name": "stdout",
     "output_type": "stream",
     "text": [
      "We have 148 focal cases.\n"
     ]
    }
   ],
   "source": [
    "focal = df.Subject[df.GTCS == False] \n",
    "focal\n",
    "count_focal = len(focal.axes[0])\n",
    "print(\"We have \"+str(count_focal)+\" focal cases.\")"
   ]
  },
  {
   "cell_type": "markdown",
   "id": "b7ea211b-3f09-4131-9e83-2ede68dc2e83",
   "metadata": {},
   "source": [
    "<div style=\"text-align: left\"> <h3>I have 72 cases of generalized epilepsy and 148 cases of localized epilepsy. So, the model we will build must meet this categorization.</h3></div>"
   ]
  },
  {
   "cell_type": "code",
   "execution_count": 8,
   "id": "ecbf72e2-4d75-4e09-bd08-132caa2ee9f9",
   "metadata": {},
   "outputs": [
    {
     "name": "stdout",
     "output_type": "stream",
     "text": [
      "0.4864864864864865\n",
      "We have the double amount focal cases compared to the generalized ones.\n"
     ]
    }
   ],
   "source": [
    "print(count_gen/count_focal)\n",
    "print(\"We have the double amount focal cases compared to the generalized ones.\")"
   ]
  },
  {
   "cell_type": "code",
   "execution_count": 9,
   "id": "f6acc4f7-745c-415d-bef3-cd7842ac93b9",
   "metadata": {},
   "outputs": [
    {
     "name": "stdout",
     "output_type": "stream",
     "text": [
      "0.32727272727272727\n",
      "One third of our dataset refers to generalized seizures.\n"
     ]
    }
   ],
   "source": [
    "print(count_gen/(count_gen+count_focal))\n",
    "print(\"One third of our dataset refers to generalized seizures.\")"
   ]
  },
  {
   "cell_type": "markdown",
   "id": "e454020f-bc78-4295-8ae3-9129b131e36e",
   "metadata": {},
   "source": [
    "<div style=\"text-align: left\"> <h3>Our data set has twice the number of generalized cases compared to localized cases of epilepsy. In addition, one third of the data set corresponds to cases of generalized epilepsy.</h3></div>"
   ]
  },
  {
   "cell_type": "code",
   "execution_count": 10,
   "id": "0ea8450f-1ad0-4d67-a45b-3431a00501a4",
   "metadata": {},
   "outputs": [
    {
     "data": {
      "image/png": "[encoded data removed]",
      "text/plain": [
       "<Figure size 432x288 with 1 Axes>"
      ]
     },
     "metadata": {},
     "output_type": "display_data"
    }
   ],
   "source": [
    "y = np.array([count_gen, count_focal])\n",
    "mylabels = [\"Tonic Clonic Seizures\", \"Focal Seizures\"]\n",
    "myexplode = [0.1, 0]\n",
    "plt.title(\"Classifying Seizures to Generalized and Focal Cases\")\n",
    "plt.pie(y, labels = mylabels, explode = myexplode, autopct='%1.1f%%', shadow=True, startangle=140)\n",
    "plt.show()"
   ]
  },
  {
   "cell_type": "markdown",
   "id": "6363358b-6b5a-46f1-be61-f1a373288fbb",
   "metadata": {},
   "source": [
    "<div style=\"text-align: left\"> <h3>In the pie chart above, we visualize the percentages of generalized and localized epilepsy.</h3></div>"
   ]
  },
  {
   "cell_type": "markdown",
   "id": "dd156545-6ac6-4185-8603-980d41481e78",
   "metadata": {},
   "source": [
    "<div style=\"text-align: left\"> <h3> The OnsetClonic column is the recording of the moment (in seconds) at which the seizure \"passes\" into its clonic phase.</h3></div>"
   ]
  },
  {
   "cell_type": "code",
   "execution_count": 11,
   "id": "b85cfa3c-34b9-4c80-87d9-4913591a8219",
   "metadata": {},
   "outputs": [
    {
     "name": "stdout",
     "output_type": "stream",
     "text": [
      "For all the cases we have in the dataset, the average generalization of each seizure starts at 86 seconds inside the seizure.\n"
     ]
    }
   ],
   "source": [
    "mean = df.OnsetClonic.mean()\n",
    "print(\"For all the cases we have in the dataset, the average generalization of each seizure starts at \"+str(round(mean))+\" seconds inside the seizure.\")"
   ]
  },
  {
   "cell_type": "markdown",
   "id": "fe322bf4-4c7f-4d8b-bf33-40807ec680af",
   "metadata": {},
   "source": [
    "<div style=\"text-align: left\"> <h3>We observe that a seizure, if generalized, will do so towards the end of the time period for which it lasts. 86 seconds (1 minute 43 seconds), since a seizure lasts from 30 seconds to 2 minutes, is the average for the seizures we have, so it really generalizes the seizure towards the end.\n",
    "</h3></div>"
   ]
  },
  {
   "cell_type": "code",
   "execution_count": 12,
   "id": "6d082722-bf4b-4215-bf90-80497e3ac37c",
   "metadata": {},
   "outputs": [
    {
     "data": {
      "text/plain": [
       "1026.0"
      ]
     },
     "execution_count": 12,
     "metadata": {},
     "output_type": "execute_result"
    }
   ],
   "source": [
    "max = df.OnsetClonic.max()\n",
    "max"
   ]
  },
  {
   "cell_type": "markdown",
   "id": "b694d2cc-beda-401f-aa12-68ad4ba7edef",
   "metadata": {},
   "source": [
    " <div style=\"text-align: left\"> <h3>1026 seconds is 17 minutes and is longer than the 5 minutes we use as the upper limit of a normal seizure.</h3></div>"
   ]
  },
  {
   "cell_type": "code",
   "execution_count": 13,
   "id": "17321611-d005-492a-97b4-73e384587472",
   "metadata": {},
   "outputs": [
    {
     "data": {
      "text/plain": [
       "0.0"
      ]
     },
     "execution_count": 13,
     "metadata": {},
     "output_type": "execute_result"
    }
   ],
   "source": [
    "min = df.OnsetClonic.min()\n",
    "min"
   ]
  },
  {
   "cell_type": "markdown",
   "id": "b9100256-a546-4597-a49d-44953753caf0",
   "metadata": {},
   "source": [
    "<div style=\"text-align: left\"> <h3>By calculating min, we see that even a seizure may not be generalized later but be a generalized case from scratch.</h3></div>"
   ]
  },
  {
   "cell_type": "markdown",
   "id": "5b8383ab-3094-4d5d-9440-59a9180a8b94",
   "metadata": {},
   "source": [
    "<div style=\"text-align: left\"> <h3>We consider generalized cases that exceed the five-minute time limit as extreme or emergency cases.</h3></div>"
   ]
  },
  {
   "cell_type": "code",
   "execution_count": 14,
   "id": "ab466e7b-f7cc-4051-935c-f474be7051fd",
   "metadata": {},
   "outputs": [
    {
     "name": "stdout",
     "output_type": "stream",
     "text": [
      "We have 3 emergency cases.\n"
     ]
    },
    {
     "data": {
      "text/html": [
       "<div>\n",
       "<style scoped>\n",
       "    .dataframe tbody tr th:only-of-type {\n",
       "        vertical-align: middle;\n",
       "    }\n",
       "\n",
       "    .dataframe tbody tr th {\n",
       "        vertical-align: top;\n",
       "    }\n",
       "\n",
       "    .dataframe thead th {\n",
       "        text-align: right;\n",
       "    }\n",
       "</style>\n",
       "<table border=\"1\" class=\"dataframe\">\n",
       "  <thead>\n",
       "    <tr style=\"text-align: right;\">\n",
       "      <th></th>\n",
       "      <th>Subject</th>\n",
       "      <th>Seizure</th>\n",
       "      <th>OnsetClonic</th>\n",
       "      <th>GTCS</th>\n",
       "      <th>Discard</th>\n",
       "    </tr>\n",
       "  </thead>\n",
       "  <tbody>\n",
       "    <tr>\n",
       "      <th>27</th>\n",
       "      <td>50</td>\n",
       "      <td>11</td>\n",
       "      <td>1026.0</td>\n",
       "      <td>True</td>\n",
       "      <td>No</td>\n",
       "    </tr>\n",
       "    <tr>\n",
       "      <th>113</th>\n",
       "      <td>180</td>\n",
       "      <td>2</td>\n",
       "      <td>622.0</td>\n",
       "      <td>True</td>\n",
       "      <td>No</td>\n",
       "    </tr>\n",
       "    <tr>\n",
       "      <th>148</th>\n",
       "      <td>218</td>\n",
       "      <td>8</td>\n",
       "      <td>339.0</td>\n",
       "      <td>True</td>\n",
       "      <td>No</td>\n",
       "    </tr>\n",
       "  </tbody>\n",
       "</table>\n",
       "</div>"
      ],
      "text/plain": [
       "     Subject  Seizure  OnsetClonic  GTCS Discard\n",
       "27        50       11       1026.0  True      No\n",
       "113      180        2        622.0  True      No\n",
       "148      218        8        339.0  True      No"
      ]
     },
     "execution_count": 14,
     "metadata": {},
     "output_type": "execute_result"
    }
   ],
   "source": [
    "emergencies = df[(df.OnsetClonic >= 300) & (df.GTCS == True)]\n",
    "count_em = len(emergencies.axes[0])\n",
    "print(\"We have \"+str(count_em)+\" emergency cases.\")\n",
    "emergencies"
   ]
  },
  {
   "cell_type": "markdown",
   "id": "9ed8791a-8d21-4ccb-9950-7655b36fc738",
   "metadata": {},
   "source": [
    "<div style=\"text-align: left\"> <h3>Beyond the emergency generalized cases, we find how many generalized cases are normal.</h3></div>"
   ]
  },
  {
   "cell_type": "code",
   "execution_count": 15,
   "id": "d0a009b7-36b5-49dd-b07a-744d62ecae68",
   "metadata": {},
   "outputs": [
    {
     "name": "stdout",
     "output_type": "stream",
     "text": [
      "We have 69 normal generalized seizure cases.\n"
     ]
    },
    {
     "data": {
      "text/html": [
       "<div>\n",
       "<style scoped>\n",
       "    .dataframe tbody tr th:only-of-type {\n",
       "        vertical-align: middle;\n",
       "    }\n",
       "\n",
       "    .dataframe tbody tr th {\n",
       "        vertical-align: top;\n",
       "    }\n",
       "\n",
       "    .dataframe thead th {\n",
       "        text-align: right;\n",
       "    }\n",
       "</style>\n",
       "<table border=\"1\" class=\"dataframe\">\n",
       "  <thead>\n",
       "    <tr style=\"text-align: right;\">\n",
       "      <th></th>\n",
       "      <th>Subject</th>\n",
       "      <th>Seizure</th>\n",
       "      <th>OnsetClonic</th>\n",
       "      <th>GTCS</th>\n",
       "      <th>Discard</th>\n",
       "    </tr>\n",
       "  </thead>\n",
       "  <tbody>\n",
       "    <tr>\n",
       "      <th>0</th>\n",
       "      <td>6</td>\n",
       "      <td>1</td>\n",
       "      <td>37.0</td>\n",
       "      <td>True</td>\n",
       "      <td>No</td>\n",
       "    </tr>\n",
       "    <tr>\n",
       "      <th>2</th>\n",
       "      <td>12</td>\n",
       "      <td>1</td>\n",
       "      <td>42.0</td>\n",
       "      <td>True</td>\n",
       "      <td>No</td>\n",
       "    </tr>\n",
       "    <tr>\n",
       "      <th>3</th>\n",
       "      <td>15</td>\n",
       "      <td>1</td>\n",
       "      <td>96.0</td>\n",
       "      <td>True</td>\n",
       "      <td>No</td>\n",
       "    </tr>\n",
       "    <tr>\n",
       "      <th>4</th>\n",
       "      <td>16</td>\n",
       "      <td>1</td>\n",
       "      <td>39.0</td>\n",
       "      <td>True</td>\n",
       "      <td>No</td>\n",
       "    </tr>\n",
       "    <tr>\n",
       "      <th>5</th>\n",
       "      <td>23</td>\n",
       "      <td>4</td>\n",
       "      <td>123.0</td>\n",
       "      <td>True</td>\n",
       "      <td>No</td>\n",
       "    </tr>\n",
       "    <tr>\n",
       "      <th>...</th>\n",
       "      <td>...</td>\n",
       "      <td>...</td>\n",
       "      <td>...</td>\n",
       "      <td>...</td>\n",
       "      <td>...</td>\n",
       "    </tr>\n",
       "    <tr>\n",
       "      <th>198</th>\n",
       "      <td>308</td>\n",
       "      <td>1</td>\n",
       "      <td>54.0</td>\n",
       "      <td>True</td>\n",
       "      <td>No</td>\n",
       "    </tr>\n",
       "    <tr>\n",
       "      <th>199</th>\n",
       "      <td>317</td>\n",
       "      <td>1</td>\n",
       "      <td>79.0</td>\n",
       "      <td>True</td>\n",
       "      <td>No</td>\n",
       "    </tr>\n",
       "    <tr>\n",
       "      <th>200</th>\n",
       "      <td>317</td>\n",
       "      <td>2</td>\n",
       "      <td>53.0</td>\n",
       "      <td>True</td>\n",
       "      <td>No</td>\n",
       "    </tr>\n",
       "    <tr>\n",
       "      <th>201</th>\n",
       "      <td>317</td>\n",
       "      <td>3</td>\n",
       "      <td>57.0</td>\n",
       "      <td>True</td>\n",
       "      <td>No</td>\n",
       "    </tr>\n",
       "    <tr>\n",
       "      <th>218</th>\n",
       "      <td>321</td>\n",
       "      <td>15</td>\n",
       "      <td>57.0</td>\n",
       "      <td>True</td>\n",
       "      <td>Small</td>\n",
       "    </tr>\n",
       "  </tbody>\n",
       "</table>\n",
       "<p>69 rows × 5 columns</p>\n",
       "</div>"
      ],
      "text/plain": [
       "     Subject  Seizure  OnsetClonic  GTCS Discard\n",
       "0          6        1         37.0  True      No\n",
       "2         12        1         42.0  True      No\n",
       "3         15        1         96.0  True      No\n",
       "4         16        1         39.0  True      No\n",
       "5         23        4        123.0  True      No\n",
       "..       ...      ...          ...   ...     ...\n",
       "198      308        1         54.0  True      No\n",
       "199      317        1         79.0  True      No\n",
       "200      317        2         53.0  True      No\n",
       "201      317        3         57.0  True      No\n",
       "218      321       15         57.0  True   Small\n",
       "\n",
       "[69 rows x 5 columns]"
      ]
     },
     "execution_count": 15,
     "metadata": {},
     "output_type": "execute_result"
    }
   ],
   "source": [
    "normal = df[(df.OnsetClonic < 300) & (df.GTCS == True)]\n",
    "count_norm = len(normal.axes[0])\n",
    "print(\"We have \"+str(count_norm)+\" normal generalized seizure cases.\")\n",
    "normal"
   ]
  },
  {
   "cell_type": "markdown",
   "id": "33fffb27-feaa-43dd-a807-4b6bdfdd9a47",
   "metadata": {},
   "source": [
    "<div style=\"text-align: left\"> <h3>\n",
    "   At the same time, we also find cases of local epilepsy that \"pass\" into a clonic phase, because there is such a category of focal seizure, and cases of simply local epilepsy without a clonic phase.</h3></div>"
   ]
  },
  {
   "cell_type": "code",
   "execution_count": 16,
   "id": "1a282044-7573-4bca-a3cf-bd7658454d6d",
   "metadata": {},
   "outputs": [
    {
     "name": "stdout",
     "output_type": "stream",
     "text": [
      "We have 7 focal seizure cases with clonic characteristics.\n"
     ]
    },
    {
     "data": {
      "text/html": [
       "<div>\n",
       "<style scoped>\n",
       "    .dataframe tbody tr th:only-of-type {\n",
       "        vertical-align: middle;\n",
       "    }\n",
       "\n",
       "    .dataframe tbody tr th {\n",
       "        vertical-align: top;\n",
       "    }\n",
       "\n",
       "    .dataframe thead th {\n",
       "        text-align: right;\n",
       "    }\n",
       "</style>\n",
       "<table border=\"1\" class=\"dataframe\">\n",
       "  <thead>\n",
       "    <tr style=\"text-align: right;\">\n",
       "      <th></th>\n",
       "      <th>Subject</th>\n",
       "      <th>Seizure</th>\n",
       "      <th>OnsetClonic</th>\n",
       "      <th>GTCS</th>\n",
       "      <th>Discard</th>\n",
       "    </tr>\n",
       "  </thead>\n",
       "  <tbody>\n",
       "    <tr>\n",
       "      <th>59</th>\n",
       "      <td>100</td>\n",
       "      <td>7</td>\n",
       "      <td>63.0</td>\n",
       "      <td>False</td>\n",
       "      <td>No</td>\n",
       "    </tr>\n",
       "    <tr>\n",
       "      <th>87</th>\n",
       "      <td>155</td>\n",
       "      <td>1</td>\n",
       "      <td>59.0</td>\n",
       "      <td>False</td>\n",
       "      <td>No</td>\n",
       "    </tr>\n",
       "    <tr>\n",
       "      <th>114</th>\n",
       "      <td>181</td>\n",
       "      <td>1</td>\n",
       "      <td>58.0</td>\n",
       "      <td>False</td>\n",
       "      <td>No</td>\n",
       "    </tr>\n",
       "    <tr>\n",
       "      <th>160</th>\n",
       "      <td>227</td>\n",
       "      <td>1</td>\n",
       "      <td>30.0</td>\n",
       "      <td>False</td>\n",
       "      <td>No</td>\n",
       "    </tr>\n",
       "    <tr>\n",
       "      <th>166</th>\n",
       "      <td>229</td>\n",
       "      <td>3</td>\n",
       "      <td>85.0</td>\n",
       "      <td>False</td>\n",
       "      <td>No</td>\n",
       "    </tr>\n",
       "    <tr>\n",
       "      <th>170</th>\n",
       "      <td>248</td>\n",
       "      <td>4</td>\n",
       "      <td>24.0</td>\n",
       "      <td>False</td>\n",
       "      <td>No</td>\n",
       "    </tr>\n",
       "    <tr>\n",
       "      <th>189</th>\n",
       "      <td>292</td>\n",
       "      <td>4</td>\n",
       "      <td>164.0</td>\n",
       "      <td>False</td>\n",
       "      <td>No</td>\n",
       "    </tr>\n",
       "  </tbody>\n",
       "</table>\n",
       "</div>"
      ],
      "text/plain": [
       "     Subject  Seizure  OnsetClonic   GTCS Discard\n",
       "59       100        7         63.0  False      No\n",
       "87       155        1         59.0  False      No\n",
       "114      181        1         58.0  False      No\n",
       "160      227        1         30.0  False      No\n",
       "166      229        3         85.0  False      No\n",
       "170      248        4         24.0  False      No\n",
       "189      292        4        164.0  False      No"
      ]
     },
     "execution_count": 16,
     "metadata": {},
     "output_type": "execute_result"
    }
   ],
   "source": [
    "c_focal = df[(df.OnsetClonic < 300) & (df.GTCS == False)]\n",
    "count_fc = len(c_focal.axes[0])\n",
    "print(\"We have \"+str(count_fc)+\" focal seizure cases with clonic characteristics.\")\n",
    "c_focal"
   ]
  },
  {
   "cell_type": "code",
   "execution_count": 17,
   "id": "35e9aeb9-b870-4ab4-bbce-e4c2879b8963",
   "metadata": {},
   "outputs": [
    {
     "name": "stdout",
     "output_type": "stream",
     "text": [
      "We have 141 just focal seizure cases.\n"
     ]
    },
    {
     "data": {
      "text/html": [
       "<div>\n",
       "<style scoped>\n",
       "    .dataframe tbody tr th:only-of-type {\n",
       "        vertical-align: middle;\n",
       "    }\n",
       "\n",
       "    .dataframe tbody tr th {\n",
       "        vertical-align: top;\n",
       "    }\n",
       "\n",
       "    .dataframe thead th {\n",
       "        text-align: right;\n",
       "    }\n",
       "</style>\n",
       "<table border=\"1\" class=\"dataframe\">\n",
       "  <thead>\n",
       "    <tr style=\"text-align: right;\">\n",
       "      <th></th>\n",
       "      <th>Subject</th>\n",
       "      <th>Seizure</th>\n",
       "      <th>OnsetClonic</th>\n",
       "      <th>GTCS</th>\n",
       "      <th>Discard</th>\n",
       "    </tr>\n",
       "  </thead>\n",
       "  <tbody>\n",
       "    <tr>\n",
       "      <th>1</th>\n",
       "      <td>6</td>\n",
       "      <td>2</td>\n",
       "      <td>NaN</td>\n",
       "      <td>False</td>\n",
       "      <td>No</td>\n",
       "    </tr>\n",
       "    <tr>\n",
       "      <th>8</th>\n",
       "      <td>30</td>\n",
       "      <td>2</td>\n",
       "      <td>NaN</td>\n",
       "      <td>False</td>\n",
       "      <td>Small</td>\n",
       "    </tr>\n",
       "    <tr>\n",
       "      <th>9</th>\n",
       "      <td>30</td>\n",
       "      <td>3</td>\n",
       "      <td>NaN</td>\n",
       "      <td>False</td>\n",
       "      <td>No</td>\n",
       "    </tr>\n",
       "    <tr>\n",
       "      <th>10</th>\n",
       "      <td>30</td>\n",
       "      <td>4</td>\n",
       "      <td>NaN</td>\n",
       "      <td>False</td>\n",
       "      <td>No</td>\n",
       "    </tr>\n",
       "    <tr>\n",
       "      <th>11</th>\n",
       "      <td>34</td>\n",
       "      <td>3</td>\n",
       "      <td>NaN</td>\n",
       "      <td>False</td>\n",
       "      <td>No</td>\n",
       "    </tr>\n",
       "    <tr>\n",
       "      <th>...</th>\n",
       "      <td>...</td>\n",
       "      <td>...</td>\n",
       "      <td>...</td>\n",
       "      <td>...</td>\n",
       "      <td>...</td>\n",
       "    </tr>\n",
       "    <tr>\n",
       "      <th>214</th>\n",
       "      <td>321</td>\n",
       "      <td>11</td>\n",
       "      <td>NaN</td>\n",
       "      <td>False</td>\n",
       "      <td>No</td>\n",
       "    </tr>\n",
       "    <tr>\n",
       "      <th>215</th>\n",
       "      <td>321</td>\n",
       "      <td>12</td>\n",
       "      <td>NaN</td>\n",
       "      <td>False</td>\n",
       "      <td>No</td>\n",
       "    </tr>\n",
       "    <tr>\n",
       "      <th>216</th>\n",
       "      <td>321</td>\n",
       "      <td>13</td>\n",
       "      <td>NaN</td>\n",
       "      <td>False</td>\n",
       "      <td>No</td>\n",
       "    </tr>\n",
       "    <tr>\n",
       "      <th>217</th>\n",
       "      <td>321</td>\n",
       "      <td>14</td>\n",
       "      <td>NaN</td>\n",
       "      <td>False</td>\n",
       "      <td>No</td>\n",
       "    </tr>\n",
       "    <tr>\n",
       "      <th>219</th>\n",
       "      <td>321</td>\n",
       "      <td>16</td>\n",
       "      <td>NaN</td>\n",
       "      <td>False</td>\n",
       "      <td>No</td>\n",
       "    </tr>\n",
       "  </tbody>\n",
       "</table>\n",
       "<p>141 rows × 5 columns</p>\n",
       "</div>"
      ],
      "text/plain": [
       "     Subject  Seizure  OnsetClonic   GTCS Discard\n",
       "1          6        2          NaN  False      No\n",
       "8         30        2          NaN  False   Small\n",
       "9         30        3          NaN  False      No\n",
       "10        30        4          NaN  False      No\n",
       "11        34        3          NaN  False      No\n",
       "..       ...      ...          ...    ...     ...\n",
       "214      321       11          NaN  False      No\n",
       "215      321       12          NaN  False      No\n",
       "216      321       13          NaN  False      No\n",
       "217      321       14          NaN  False      No\n",
       "219      321       16          NaN  False      No\n",
       "\n",
       "[141 rows x 5 columns]"
      ]
     },
     "execution_count": 17,
     "metadata": {},
     "output_type": "execute_result"
    }
   ],
   "source": [
    "just_focal = df[(df.OnsetClonic.isnull()) & (df.GTCS == False)]\n",
    "count_just_focal = len(just_focal.axes[0])\n",
    "print(\"We have \"+str(count_just_focal)+\" just focal seizure cases.\")\n",
    "just_focal"
   ]
  },
  {
   "cell_type": "code",
   "execution_count": 18,
   "id": "e34555de-9bb0-454e-bb7b-4048eb683748",
   "metadata": {},
   "outputs": [
    {
     "data": {
      "image/png": "[encoded data removed]",
      "text/plain": [
       "<Figure size 432x288 with 1 Axes>"
      ]
     },
     "metadata": {},
     "output_type": "display_data"
    }
   ],
   "source": [
    "y = np.array([count_just_focal, count_norm, count_fc, count_em])\n",
    "mylabels = [\"Just Focal Seizures\", \"Generalized Seizures\", \"Focal Seizures with tonic characteristics\", \"Generalized Emergency Cases\"]\n",
    "plt.title(\"Classifying Seizures to more detailed cases\")\n",
    "explode = (0, 0.2, 0.5, 0)\n",
    "plt.pie(y, labels = mylabels, explode = explode, autopct='%1.1f%%', shadow=True, startangle=140)\n",
    "plt.show()"
   ]
  },
  {
   "cell_type": "markdown",
   "id": "6a73cd15-b1ce-4168-95d9-5db510ffbc68",
   "metadata": {},
   "source": [
    "<div style=\"text-align: left\"> <h3>We distributed the last four categories above in another pie chart.</h3></div>"
   ]
  },
  {
   "cell_type": "markdown",
   "id": "d5512bd6-6c14-443b-916e-4624fd8af9ef",
   "metadata": {},
   "source": [
    "<div style=\"text-align: left\"> <h3>Let's check the percentage of patients who have 1 seizure corresponding to them or more than one.</h3></div>"
   ]
  },
  {
   "cell_type": "code",
   "execution_count": 19,
   "id": "faed2e48-2641-4865-847d-3025452760ba",
   "metadata": {},
   "outputs": [
    {
     "data": {
      "text/plain": [
       "321    16\n",
       "169    10\n",
       "218     9\n",
       "91      8\n",
       "220     8\n",
       "       ..\n",
       "27      1\n",
       "12      1\n",
       "87      1\n",
       "201     1\n",
       "86      1\n",
       "Name: Subject, Length: 68, dtype: int64"
      ]
     },
     "execution_count": 19,
     "metadata": {},
     "output_type": "execute_result"
    }
   ],
   "source": [
    "v = df.Subject.value_counts()\n",
    "v"
   ]
  },
  {
   "cell_type": "code",
   "execution_count": 20,
   "id": "7ed9c25c-eac2-4d6f-a8ba-8a8544b085ee",
   "metadata": {},
   "outputs": [
    {
     "name": "stdout",
     "output_type": "stream",
     "text": [
      "     Subject  Seizure  OnsetClonic   GTCS Discard\n",
      "0          6        1         37.0   True      No\n",
      "1          6        2          NaN  False      No\n",
      "7         30        1         70.0   True      No\n",
      "8         30        2          NaN  False   Small\n",
      "9         30        3          NaN  False      No\n",
      "..       ...      ...          ...    ...     ...\n",
      "215      321       12          NaN  False      No\n",
      "216      321       13          NaN  False      No\n",
      "217      321       14          NaN  False      No\n",
      "218      321       15         57.0   True   Small\n",
      "219      321       16          NaN  False      No\n",
      "\n",
      "[198 rows x 5 columns]\n",
      "46\n"
     ]
    }
   ],
   "source": [
    "#I get all the items that have more than one readings, so I get all the patients that have more than one seizure to match them\n",
    "more_than_one_seizure = df[df.Subject.isin(v.index[v.gt(1)])]\n",
    "print(more_than_one_seizure)\n",
    "patients_with_more_than_one_seizure = more_than_one_seizure.Subject.nunique()\n",
    "print(patients_with_more_than_one_seizure)"
   ]
  },
  {
   "cell_type": "code",
   "execution_count": 21,
   "id": "06227059-4b18-4faf-ad5d-e18b044621f5",
   "metadata": {},
   "outputs": [
    {
     "name": "stdout",
     "output_type": "stream",
     "text": [
      "We have 68 patients in total.\n"
     ]
    }
   ],
   "source": [
    "countuniqval = df['Subject'].nunique() \n",
    "print(\"We have \"+str(countuniqval)+\" patients in total.\")"
   ]
  },
  {
   "cell_type": "code",
   "execution_count": 22,
   "id": "fe480f93-01ff-4786-b5fa-7f2afb45cc5d",
   "metadata": {},
   "outputs": [
    {
     "name": "stdout",
     "output_type": "stream",
     "text": [
      "Out of the 68 patients, the 46 are patients that appear to perform more than one seizure in our dataset.\n"
     ]
    }
   ],
   "source": [
    "print(\"Out of the \"+str(countuniqval)+\" patients, the \"+str(patients_with_more_than_one_seizure)+\" are patients that appear to perform more than one seizure in our dataset.\")"
   ]
  },
  {
   "cell_type": "code",
   "execution_count": 23,
   "id": "45a692cc-7724-4762-b25f-e1b549b13b43",
   "metadata": {},
   "outputs": [
    {
     "name": "stdout",
     "output_type": "stream",
     "text": [
      "And out of the 68 patients, the 22 are patients that appear to perform only one seizure in our dataset.\n"
     ]
    }
   ],
   "source": [
    "print(\"And out of the \"+str(countuniqval)+\" patients, the \"+str(countuniqval - patients_with_more_than_one_seizure)+\" are patients that appear to perform only one seizure in our dataset.\")"
   ]
  },
  {
   "cell_type": "markdown",
   "id": "cead5a53-4024-48ec-91ba-22ec046a80fa",
   "metadata": {},
   "source": [
    "<div style=\"text-align: left\"> <h3>The total number of 68 patients presents 22 patients with a single incident corresponding to them, while the remaining 46 patients have more than one incident to represent them.</h3></div>"
   ]
  },
  {
   "cell_type": "code",
   "execution_count": 24,
   "id": "387ea571-9c7b-423d-8ea2-47c375c3cb68",
   "metadata": {},
   "outputs": [
    {
     "data": {
      "image/png": "[encoded data removed]",
      "text/plain": [
       "<Figure size 432x288 with 1 Axes>"
      ]
     },
     "metadata": {},
     "output_type": "display_data"
    }
   ],
   "source": [
    "#Let's create a pie chart for this analogy that appeared through our analysis on the csv file\n",
    "patients_with_only_one_seizure = countuniqval - patients_with_more_than_one_seizure\n",
    "y = np.array([patients_with_more_than_one_seizure, patients_with_only_one_seizure])\n",
    "mylabels = [\"Patients that appear to have more than one seizures\", \"Patients that appear to have only one seizure\"]\n",
    "plt.title(\"Differ Patients with Multiple Seizure Cases from Patients with only one Seizure Case\")\n",
    "explode = (0.1, 0)\n",
    "plt.pie(y, labels = mylabels, explode = explode, autopct='%1.1f%%', shadow=True, startangle=140)\n",
    "plt.show()"
   ]
  },
  {
   "cell_type": "code",
   "execution_count": 25,
   "id": "59093071-63ad-4420-9ad7-7b451c1dbf79",
   "metadata": {},
   "outputs": [
    {
     "name": "stdout",
     "output_type": "stream",
     "text": [
      "0.3235294117647059\n",
      "0.6764705882352942\n"
     ]
    }
   ],
   "source": [
    "analogy1 = patients_with_only_one_seizure / countuniqval\n",
    "analogy2 = patients_with_more_than_one_seizure / countuniqval\n",
    "print(analogy1)\n",
    "print(analogy2)"
   ]
  },
  {
   "cell_type": "markdown",
   "id": "538566ac-b431-4ed2-b72d-fcb47f0dc59c",
   "metadata": {},
   "source": [
    "<div style=\"text-align: left\"> <h3>In the pie chart distribution, we notice that a 70-30 ratio appears (70% patients with more than one seizure / 30% patients with a single seizure).</h3></div>"
   ]
  },
  {
   "cell_type": "markdown",
   "id": "7598853a-7acb-4e56-a817-55e30a90f2c7",
   "metadata": {},
   "source": [
    "<div style=\"text-align: left\"> <h3>Next, we also take advantage of the discard column to analyze the data. The method of discarding some views from the incidents serves the imbalance in generalized and local incidents that we initially observe.</h3></div>"
   ]
  },
  {
   "cell_type": "code",
   "execution_count": 26,
   "id": "c71ce40a-22d0-469f-af44-53eeef4e3fe9",
   "metadata": {},
   "outputs": [
    {
     "name": "stdout",
     "output_type": "stream",
     "text": [
      "We have 12 seizure cases with discarded views (large and small included).\n"
     ]
    },
    {
     "data": {
      "text/html": [
       "<div>\n",
       "<style scoped>\n",
       "    .dataframe tbody tr th:only-of-type {\n",
       "        vertical-align: middle;\n",
       "    }\n",
       "\n",
       "    .dataframe tbody tr th {\n",
       "        vertical-align: top;\n",
       "    }\n",
       "\n",
       "    .dataframe thead th {\n",
       "        text-align: right;\n",
       "    }\n",
       "</style>\n",
       "<table border=\"1\" class=\"dataframe\">\n",
       "  <thead>\n",
       "    <tr style=\"text-align: right;\">\n",
       "      <th></th>\n",
       "      <th>Subject</th>\n",
       "      <th>Seizure</th>\n",
       "      <th>OnsetClonic</th>\n",
       "      <th>GTCS</th>\n",
       "      <th>Discard</th>\n",
       "    </tr>\n",
       "  </thead>\n",
       "  <tbody>\n",
       "    <tr>\n",
       "      <th>8</th>\n",
       "      <td>30</td>\n",
       "      <td>2</td>\n",
       "      <td>NaN</td>\n",
       "      <td>False</td>\n",
       "      <td>Small</td>\n",
       "    </tr>\n",
       "    <tr>\n",
       "      <th>14</th>\n",
       "      <td>34</td>\n",
       "      <td>7</td>\n",
       "      <td>NaN</td>\n",
       "      <td>False</td>\n",
       "      <td>Yes</td>\n",
       "    </tr>\n",
       "    <tr>\n",
       "      <th>36</th>\n",
       "      <td>74</td>\n",
       "      <td>3</td>\n",
       "      <td>NaN</td>\n",
       "      <td>False</td>\n",
       "      <td>Yes</td>\n",
       "    </tr>\n",
       "    <tr>\n",
       "      <th>38</th>\n",
       "      <td>74</td>\n",
       "      <td>10</td>\n",
       "      <td>45.0</td>\n",
       "      <td>True</td>\n",
       "      <td>Large</td>\n",
       "    </tr>\n",
       "    <tr>\n",
       "      <th>43</th>\n",
       "      <td>76</td>\n",
       "      <td>2</td>\n",
       "      <td>NaN</td>\n",
       "      <td>False</td>\n",
       "      <td>Yes</td>\n",
       "    </tr>\n",
       "    <tr>\n",
       "      <th>45</th>\n",
       "      <td>76</td>\n",
       "      <td>4</td>\n",
       "      <td>NaN</td>\n",
       "      <td>False</td>\n",
       "      <td>Yes</td>\n",
       "    </tr>\n",
       "    <tr>\n",
       "      <th>67</th>\n",
       "      <td>107</td>\n",
       "      <td>2</td>\n",
       "      <td>NaN</td>\n",
       "      <td>False</td>\n",
       "      <td>Yes</td>\n",
       "    </tr>\n",
       "    <tr>\n",
       "      <th>80</th>\n",
       "      <td>142</td>\n",
       "      <td>3</td>\n",
       "      <td>61.0</td>\n",
       "      <td>True</td>\n",
       "      <td>Small</td>\n",
       "    </tr>\n",
       "    <tr>\n",
       "      <th>138</th>\n",
       "      <td>213</td>\n",
       "      <td>2</td>\n",
       "      <td>26.0</td>\n",
       "      <td>True</td>\n",
       "      <td>Small</td>\n",
       "    </tr>\n",
       "    <tr>\n",
       "      <th>176</th>\n",
       "      <td>255</td>\n",
       "      <td>5</td>\n",
       "      <td>NaN</td>\n",
       "      <td>False</td>\n",
       "      <td>Large</td>\n",
       "    </tr>\n",
       "    <tr>\n",
       "      <th>179</th>\n",
       "      <td>262</td>\n",
       "      <td>4</td>\n",
       "      <td>255.0</td>\n",
       "      <td>True</td>\n",
       "      <td>Yes</td>\n",
       "    </tr>\n",
       "    <tr>\n",
       "      <th>218</th>\n",
       "      <td>321</td>\n",
       "      <td>15</td>\n",
       "      <td>57.0</td>\n",
       "      <td>True</td>\n",
       "      <td>Small</td>\n",
       "    </tr>\n",
       "  </tbody>\n",
       "</table>\n",
       "</div>"
      ],
      "text/plain": [
       "     Subject  Seizure  OnsetClonic   GTCS Discard\n",
       "8         30        2          NaN  False   Small\n",
       "14        34        7          NaN  False     Yes\n",
       "36        74        3          NaN  False     Yes\n",
       "38        74       10         45.0   True   Large\n",
       "43        76        2          NaN  False     Yes\n",
       "45        76        4          NaN  False     Yes\n",
       "67       107        2          NaN  False     Yes\n",
       "80       142        3         61.0   True   Small\n",
       "138      213        2         26.0   True   Small\n",
       "176      255        5          NaN  False   Large\n",
       "179      262        4        255.0   True     Yes\n",
       "218      321       15         57.0   True   Small"
      ]
     },
     "execution_count": 26,
     "metadata": {},
     "output_type": "execute_result"
    }
   ],
   "source": [
    "#Getting all subjects and their seizures that have discard small or large\n",
    "discarded = df[(df[\"Discard\"] == 'Yes') | (df[\"Discard\"] == 'Small') | (df[\"Discard\"] == 'Large')]\n",
    "count_dis = len(discarded.axes[0])\n",
    "print(\"We have \"+str(count_dis)+\" seizure cases with discarded views (large and small included).\")\n",
    "discarded"
   ]
  },
  {
   "cell_type": "code",
   "execution_count": 27,
   "id": "e5895fd6-8790-4797-b980-36d842642ac1",
   "metadata": {},
   "outputs": [
    {
     "name": "stdout",
     "output_type": "stream",
     "text": [
      "We have 208 seizure cases with not discarded views.\n"
     ]
    },
    {
     "data": {
      "text/html": [
       "<div>\n",
       "<style scoped>\n",
       "    .dataframe tbody tr th:only-of-type {\n",
       "        vertical-align: middle;\n",
       "    }\n",
       "\n",
       "    .dataframe tbody tr th {\n",
       "        vertical-align: top;\n",
       "    }\n",
       "\n",
       "    .dataframe thead th {\n",
       "        text-align: right;\n",
       "    }\n",
       "</style>\n",
       "<table border=\"1\" class=\"dataframe\">\n",
       "  <thead>\n",
       "    <tr style=\"text-align: right;\">\n",
       "      <th></th>\n",
       "      <th>Subject</th>\n",
       "      <th>Seizure</th>\n",
       "      <th>OnsetClonic</th>\n",
       "      <th>GTCS</th>\n",
       "      <th>Discard</th>\n",
       "    </tr>\n",
       "  </thead>\n",
       "  <tbody>\n",
       "    <tr>\n",
       "      <th>0</th>\n",
       "      <td>6</td>\n",
       "      <td>1</td>\n",
       "      <td>37.0</td>\n",
       "      <td>True</td>\n",
       "      <td>No</td>\n",
       "    </tr>\n",
       "    <tr>\n",
       "      <th>1</th>\n",
       "      <td>6</td>\n",
       "      <td>2</td>\n",
       "      <td>NaN</td>\n",
       "      <td>False</td>\n",
       "      <td>No</td>\n",
       "    </tr>\n",
       "    <tr>\n",
       "      <th>2</th>\n",
       "      <td>12</td>\n",
       "      <td>1</td>\n",
       "      <td>42.0</td>\n",
       "      <td>True</td>\n",
       "      <td>No</td>\n",
       "    </tr>\n",
       "    <tr>\n",
       "      <th>3</th>\n",
       "      <td>15</td>\n",
       "      <td>1</td>\n",
       "      <td>96.0</td>\n",
       "      <td>True</td>\n",
       "      <td>No</td>\n",
       "    </tr>\n",
       "    <tr>\n",
       "      <th>4</th>\n",
       "      <td>16</td>\n",
       "      <td>1</td>\n",
       "      <td>39.0</td>\n",
       "      <td>True</td>\n",
       "      <td>No</td>\n",
       "    </tr>\n",
       "    <tr>\n",
       "      <th>...</th>\n",
       "      <td>...</td>\n",
       "      <td>...</td>\n",
       "      <td>...</td>\n",
       "      <td>...</td>\n",
       "      <td>...</td>\n",
       "    </tr>\n",
       "    <tr>\n",
       "      <th>214</th>\n",
       "      <td>321</td>\n",
       "      <td>11</td>\n",
       "      <td>NaN</td>\n",
       "      <td>False</td>\n",
       "      <td>No</td>\n",
       "    </tr>\n",
       "    <tr>\n",
       "      <th>215</th>\n",
       "      <td>321</td>\n",
       "      <td>12</td>\n",
       "      <td>NaN</td>\n",
       "      <td>False</td>\n",
       "      <td>No</td>\n",
       "    </tr>\n",
       "    <tr>\n",
       "      <th>216</th>\n",
       "      <td>321</td>\n",
       "      <td>13</td>\n",
       "      <td>NaN</td>\n",
       "      <td>False</td>\n",
       "      <td>No</td>\n",
       "    </tr>\n",
       "    <tr>\n",
       "      <th>217</th>\n",
       "      <td>321</td>\n",
       "      <td>14</td>\n",
       "      <td>NaN</td>\n",
       "      <td>False</td>\n",
       "      <td>No</td>\n",
       "    </tr>\n",
       "    <tr>\n",
       "      <th>219</th>\n",
       "      <td>321</td>\n",
       "      <td>16</td>\n",
       "      <td>NaN</td>\n",
       "      <td>False</td>\n",
       "      <td>No</td>\n",
       "    </tr>\n",
       "  </tbody>\n",
       "</table>\n",
       "<p>208 rows × 5 columns</p>\n",
       "</div>"
      ],
      "text/plain": [
       "     Subject  Seizure  OnsetClonic   GTCS Discard\n",
       "0          6        1         37.0   True      No\n",
       "1          6        2          NaN  False      No\n",
       "2         12        1         42.0   True      No\n",
       "3         15        1         96.0   True      No\n",
       "4         16        1         39.0   True      No\n",
       "..       ...      ...          ...    ...     ...\n",
       "214      321       11          NaN  False      No\n",
       "215      321       12          NaN  False      No\n",
       "216      321       13          NaN  False      No\n",
       "217      321       14          NaN  False      No\n",
       "219      321       16          NaN  False      No\n",
       "\n",
       "[208 rows x 5 columns]"
      ]
     },
     "execution_count": 27,
     "metadata": {},
     "output_type": "execute_result"
    }
   ],
   "source": [
    "#Getting all subjects and their seizures that don't have discard\n",
    "not_discarded = df[df[\"Discard\"] == 'No']\n",
    "count_ndis = len(not_discarded.axes[0])\n",
    "print(\"We have \"+str(count_ndis)+\" seizure cases with not discarded views.\")\n",
    "not_discarded"
   ]
  },
  {
   "cell_type": "code",
   "execution_count": 28,
   "id": "dab1d65a-7f7a-425f-8984-e6ac13face75",
   "metadata": {},
   "outputs": [
    {
     "data": {
      "image/png": "[encoded data removed]",
      "text/plain": [
       "<Figure size 432x288 with 1 Axes>"
      ]
     },
     "metadata": {},
     "output_type": "display_data"
    }
   ],
   "source": [
    "y = np.array([count_dis, count_ndis])\n",
    "mylabels = [\"Seizures with discarded views\", \"Seizures with not discarded views\"]\n",
    "plt.title(\"Differ Discarded and Not Discarded Seizure Cases Regarding The Views\")\n",
    "explode = (0, 0.3)\n",
    "plt.pie(y, labels = mylabels, explode = explode, autopct='%1.1f%%', shadow=True, startangle=140)\n",
    "plt.show()"
   ]
  },
  {
   "cell_type": "markdown",
   "id": "49277c8b-24bc-4d26-b1b4-5984163f5cc9",
   "metadata": {
    "tags": []
   },
   "source": [
    "<div style=\"text-align: left\"> <h3>We visualize above how many incidents have discarded views and we see a minimal percentage being rejected.</h3></div>"
   ]
  },
  {
   "cell_type": "code",
   "execution_count": 29,
   "id": "6a51532c-5663-47f0-83b3-c98b502afb4b",
   "metadata": {},
   "outputs": [
    {
     "name": "stdout",
     "output_type": "stream",
     "text": [
      "0.05454545454545454\n",
      "0.9454545454545454\n",
      "We observe a very little amount of discarded cases.\n"
     ]
    }
   ],
   "source": [
    "count_all = len(df.axes[0])\n",
    "analogy3 = count_dis / count_all\n",
    "analogy4 = count_ndis / count_all\n",
    "print(analogy3)\n",
    "print(analogy4)\n",
    "print(\"We observe a very little amount of discarded cases.\")"
   ]
  },
  {
   "cell_type": "markdown",
   "id": "6378d5e5-773e-4d53-86f9-14d412c412ae",
   "metadata": {},
   "source": [
    "<div style=\"text-align: left\"> <h3>Below we visualize for the discard views if both types (Large, Small) or only one were rejected.</h3></div>"
   ]
  },
  {
   "cell_type": "code",
   "execution_count": 30,
   "id": "92785fef-783d-4c81-a657-41a2f7fa5442",
   "metadata": {},
   "outputs": [
    {
     "name": "stdout",
     "output_type": "stream",
     "text": [
      "We have 2 seizure cases with discarded large views only.\n"
     ]
    },
    {
     "data": {
      "text/html": [
       "<div>\n",
       "<style scoped>\n",
       "    .dataframe tbody tr th:only-of-type {\n",
       "        vertical-align: middle;\n",
       "    }\n",
       "\n",
       "    .dataframe tbody tr th {\n",
       "        vertical-align: top;\n",
       "    }\n",
       "\n",
       "    .dataframe thead th {\n",
       "        text-align: right;\n",
       "    }\n",
       "</style>\n",
       "<table border=\"1\" class=\"dataframe\">\n",
       "  <thead>\n",
       "    <tr style=\"text-align: right;\">\n",
       "      <th></th>\n",
       "      <th>Subject</th>\n",
       "      <th>Seizure</th>\n",
       "      <th>OnsetClonic</th>\n",
       "      <th>GTCS</th>\n",
       "      <th>Discard</th>\n",
       "    </tr>\n",
       "  </thead>\n",
       "  <tbody>\n",
       "    <tr>\n",
       "      <th>38</th>\n",
       "      <td>74</td>\n",
       "      <td>10</td>\n",
       "      <td>45.0</td>\n",
       "      <td>True</td>\n",
       "      <td>Large</td>\n",
       "    </tr>\n",
       "    <tr>\n",
       "      <th>176</th>\n",
       "      <td>255</td>\n",
       "      <td>5</td>\n",
       "      <td>NaN</td>\n",
       "      <td>False</td>\n",
       "      <td>Large</td>\n",
       "    </tr>\n",
       "  </tbody>\n",
       "</table>\n",
       "</div>"
      ],
      "text/plain": [
       "     Subject  Seizure  OnsetClonic   GTCS Discard\n",
       "38        74       10         45.0   True   Large\n",
       "176      255        5          NaN  False   Large"
      ]
     },
     "execution_count": 30,
     "metadata": {},
     "output_type": "execute_result"
    }
   ],
   "source": [
    "ldiscarded = discarded[discarded[\"Discard\"] == 'Large']\n",
    "count_ldis = len(ldiscarded.axes[0])\n",
    "print(\"We have \"+str(count_ldis)+\" seizure cases with discarded large views only.\")\n",
    "ldiscarded"
   ]
  },
  {
   "cell_type": "code",
   "execution_count": 31,
   "id": "9daa044a-9942-423d-8de8-459ff3f7351d",
   "metadata": {},
   "outputs": [
    {
     "name": "stdout",
     "output_type": "stream",
     "text": [
      "We have 4 seizure cases with discarded small views only.\n"
     ]
    },
    {
     "data": {
      "text/html": [
       "<div>\n",
       "<style scoped>\n",
       "    .dataframe tbody tr th:only-of-type {\n",
       "        vertical-align: middle;\n",
       "    }\n",
       "\n",
       "    .dataframe tbody tr th {\n",
       "        vertical-align: top;\n",
       "    }\n",
       "\n",
       "    .dataframe thead th {\n",
       "        text-align: right;\n",
       "    }\n",
       "</style>\n",
       "<table border=\"1\" class=\"dataframe\">\n",
       "  <thead>\n",
       "    <tr style=\"text-align: right;\">\n",
       "      <th></th>\n",
       "      <th>Subject</th>\n",
       "      <th>Seizure</th>\n",
       "      <th>OnsetClonic</th>\n",
       "      <th>GTCS</th>\n",
       "      <th>Discard</th>\n",
       "    </tr>\n",
       "  </thead>\n",
       "  <tbody>\n",
       "    <tr>\n",
       "      <th>8</th>\n",
       "      <td>30</td>\n",
       "      <td>2</td>\n",
       "      <td>NaN</td>\n",
       "      <td>False</td>\n",
       "      <td>Small</td>\n",
       "    </tr>\n",
       "    <tr>\n",
       "      <th>80</th>\n",
       "      <td>142</td>\n",
       "      <td>3</td>\n",
       "      <td>61.0</td>\n",
       "      <td>True</td>\n",
       "      <td>Small</td>\n",
       "    </tr>\n",
       "    <tr>\n",
       "      <th>138</th>\n",
       "      <td>213</td>\n",
       "      <td>2</td>\n",
       "      <td>26.0</td>\n",
       "      <td>True</td>\n",
       "      <td>Small</td>\n",
       "    </tr>\n",
       "    <tr>\n",
       "      <th>218</th>\n",
       "      <td>321</td>\n",
       "      <td>15</td>\n",
       "      <td>57.0</td>\n",
       "      <td>True</td>\n",
       "      <td>Small</td>\n",
       "    </tr>\n",
       "  </tbody>\n",
       "</table>\n",
       "</div>"
      ],
      "text/plain": [
       "     Subject  Seizure  OnsetClonic   GTCS Discard\n",
       "8         30        2          NaN  False   Small\n",
       "80       142        3         61.0   True   Small\n",
       "138      213        2         26.0   True   Small\n",
       "218      321       15         57.0   True   Small"
      ]
     },
     "execution_count": 31,
     "metadata": {},
     "output_type": "execute_result"
    }
   ],
   "source": [
    "sdiscarded = discarded[discarded[\"Discard\"] == 'Small']\n",
    "count_sdis = len(sdiscarded.axes[0])\n",
    "print(\"We have \"+str(count_sdis)+\" seizure cases with discarded small views only.\")\n",
    "sdiscarded"
   ]
  },
  {
   "cell_type": "code",
   "execution_count": 32,
   "id": "9dc71f38-976b-4ac6-928c-412153377363",
   "metadata": {},
   "outputs": [
    {
     "name": "stdout",
     "output_type": "stream",
     "text": [
      "We have 6 seizure cases with discarded both small and large views.\n"
     ]
    },
    {
     "data": {
      "text/html": [
       "<div>\n",
       "<style scoped>\n",
       "    .dataframe tbody tr th:only-of-type {\n",
       "        vertical-align: middle;\n",
       "    }\n",
       "\n",
       "    .dataframe tbody tr th {\n",
       "        vertical-align: top;\n",
       "    }\n",
       "\n",
       "    .dataframe thead th {\n",
       "        text-align: right;\n",
       "    }\n",
       "</style>\n",
       "<table border=\"1\" class=\"dataframe\">\n",
       "  <thead>\n",
       "    <tr style=\"text-align: right;\">\n",
       "      <th></th>\n",
       "      <th>Subject</th>\n",
       "      <th>Seizure</th>\n",
       "      <th>OnsetClonic</th>\n",
       "      <th>GTCS</th>\n",
       "      <th>Discard</th>\n",
       "    </tr>\n",
       "  </thead>\n",
       "  <tbody>\n",
       "    <tr>\n",
       "      <th>14</th>\n",
       "      <td>34</td>\n",
       "      <td>7</td>\n",
       "      <td>NaN</td>\n",
       "      <td>False</td>\n",
       "      <td>Yes</td>\n",
       "    </tr>\n",
       "    <tr>\n",
       "      <th>36</th>\n",
       "      <td>74</td>\n",
       "      <td>3</td>\n",
       "      <td>NaN</td>\n",
       "      <td>False</td>\n",
       "      <td>Yes</td>\n",
       "    </tr>\n",
       "    <tr>\n",
       "      <th>43</th>\n",
       "      <td>76</td>\n",
       "      <td>2</td>\n",
       "      <td>NaN</td>\n",
       "      <td>False</td>\n",
       "      <td>Yes</td>\n",
       "    </tr>\n",
       "    <tr>\n",
       "      <th>45</th>\n",
       "      <td>76</td>\n",
       "      <td>4</td>\n",
       "      <td>NaN</td>\n",
       "      <td>False</td>\n",
       "      <td>Yes</td>\n",
       "    </tr>\n",
       "    <tr>\n",
       "      <th>67</th>\n",
       "      <td>107</td>\n",
       "      <td>2</td>\n",
       "      <td>NaN</td>\n",
       "      <td>False</td>\n",
       "      <td>Yes</td>\n",
       "    </tr>\n",
       "    <tr>\n",
       "      <th>179</th>\n",
       "      <td>262</td>\n",
       "      <td>4</td>\n",
       "      <td>255.0</td>\n",
       "      <td>True</td>\n",
       "      <td>Yes</td>\n",
       "    </tr>\n",
       "  </tbody>\n",
       "</table>\n",
       "</div>"
      ],
      "text/plain": [
       "     Subject  Seizure  OnsetClonic   GTCS Discard\n",
       "14        34        7          NaN  False     Yes\n",
       "36        74        3          NaN  False     Yes\n",
       "43        76        2          NaN  False     Yes\n",
       "45        76        4          NaN  False     Yes\n",
       "67       107        2          NaN  False     Yes\n",
       "179      262        4        255.0   True     Yes"
      ]
     },
     "execution_count": 32,
     "metadata": {},
     "output_type": "execute_result"
    }
   ],
   "source": [
    "bdiscarded = discarded[discarded[\"Discard\"] == 'Yes']\n",
    "count_bdis = len(bdiscarded.axes[0])\n",
    "print(\"We have \"+str(count_bdis)+\" seizure cases with discarded both small and large views.\")\n",
    "bdiscarded"
   ]
  },
  {
   "cell_type": "code",
   "execution_count": 33,
   "id": "96cefdd7-82bb-424b-a877-bdd5e7cfefbc",
   "metadata": {},
   "outputs": [
    {
     "data": {
      "image/png": "[encoded data removed]",
      "text/plain": [
       "<Figure size 432x288 with 1 Axes>"
      ]
     },
     "metadata": {},
     "output_type": "display_data"
    }
   ],
   "source": [
    "y = np.array([count_ldis, count_sdis, count_bdis])\n",
    "mylabels = [\"Seizures with discarded large views only\", \"Seizures with discarded small views only\", \"Seizures with both views discarded\"]\n",
    "explode = (0.2, 0.1, 0)\n",
    "plt.pie(y, labels = mylabels, explode = explode, autopct='%1.1f%%', shadow=True, startangle=140)\n",
    "plt.title(\"Seizure cases with both views discarded or one of them discarded\")\n",
    "plt.show()"
   ]
  },
  {
   "cell_type": "markdown",
   "id": "d965e9cf-57a6-4307-aff8-75dde4e3f46d",
   "metadata": {},
   "source": [
    "<div style=\"text-align: left\"> <h3>Below we visualize how many generalized incidents have or not discarded views and how many local incidents have or not discarded views.</h3></div>"
   ]
  },
  {
   "cell_type": "code",
   "execution_count": 34,
   "id": "c592182f-6864-4368-822e-8ad6348b4770",
   "metadata": {},
   "outputs": [
    {
     "name": "stdout",
     "output_type": "stream",
     "text": [
      "We have 5 generalized seizure cases with discarded views (large and small included).\n"
     ]
    },
    {
     "data": {
      "text/html": [
       "<div>\n",
       "<style scoped>\n",
       "    .dataframe tbody tr th:only-of-type {\n",
       "        vertical-align: middle;\n",
       "    }\n",
       "\n",
       "    .dataframe tbody tr th {\n",
       "        vertical-align: top;\n",
       "    }\n",
       "\n",
       "    .dataframe thead th {\n",
       "        text-align: right;\n",
       "    }\n",
       "</style>\n",
       "<table border=\"1\" class=\"dataframe\">\n",
       "  <thead>\n",
       "    <tr style=\"text-align: right;\">\n",
       "      <th></th>\n",
       "      <th>Subject</th>\n",
       "      <th>Seizure</th>\n",
       "      <th>OnsetClonic</th>\n",
       "      <th>GTCS</th>\n",
       "      <th>Discard</th>\n",
       "    </tr>\n",
       "  </thead>\n",
       "  <tbody>\n",
       "    <tr>\n",
       "      <th>38</th>\n",
       "      <td>74</td>\n",
       "      <td>10</td>\n",
       "      <td>45.0</td>\n",
       "      <td>True</td>\n",
       "      <td>Large</td>\n",
       "    </tr>\n",
       "    <tr>\n",
       "      <th>80</th>\n",
       "      <td>142</td>\n",
       "      <td>3</td>\n",
       "      <td>61.0</td>\n",
       "      <td>True</td>\n",
       "      <td>Small</td>\n",
       "    </tr>\n",
       "    <tr>\n",
       "      <th>138</th>\n",
       "      <td>213</td>\n",
       "      <td>2</td>\n",
       "      <td>26.0</td>\n",
       "      <td>True</td>\n",
       "      <td>Small</td>\n",
       "    </tr>\n",
       "    <tr>\n",
       "      <th>179</th>\n",
       "      <td>262</td>\n",
       "      <td>4</td>\n",
       "      <td>255.0</td>\n",
       "      <td>True</td>\n",
       "      <td>Yes</td>\n",
       "    </tr>\n",
       "    <tr>\n",
       "      <th>218</th>\n",
       "      <td>321</td>\n",
       "      <td>15</td>\n",
       "      <td>57.0</td>\n",
       "      <td>True</td>\n",
       "      <td>Small</td>\n",
       "    </tr>\n",
       "  </tbody>\n",
       "</table>\n",
       "</div>"
      ],
      "text/plain": [
       "     Subject  Seizure  OnsetClonic  GTCS Discard\n",
       "38        74       10         45.0  True   Large\n",
       "80       142        3         61.0  True   Small\n",
       "138      213        2         26.0  True   Small\n",
       "179      262        4        255.0  True     Yes\n",
       "218      321       15         57.0  True   Small"
      ]
     },
     "execution_count": 34,
     "metadata": {},
     "output_type": "execute_result"
    }
   ],
   "source": [
    "#Gathering how many generalized seizures are discarded \n",
    "gen_discarded = df[((df[\"Discard\"] == 'Yes') | (df[\"Discard\"] == 'Small') | (df[\"Discard\"] == 'Large')) & (df[\"GTCS\"] == True)]\n",
    "count_gdis = len(gen_discarded.axes[0])\n",
    "print(\"We have \"+str(count_gdis)+\" generalized seizure cases with discarded views (large and small included).\")\n",
    "gen_discarded"
   ]
  },
  {
   "cell_type": "code",
   "execution_count": 35,
   "id": "1e17c7d9-d406-4018-b766-adc412dd1d37",
   "metadata": {},
   "outputs": [
    {
     "name": "stdout",
     "output_type": "stream",
     "text": [
      "We have 67 generalized seizure cases without discarded views.\n"
     ]
    },
    {
     "data": {
      "text/html": [
       "<div>\n",
       "<style scoped>\n",
       "    .dataframe tbody tr th:only-of-type {\n",
       "        vertical-align: middle;\n",
       "    }\n",
       "\n",
       "    .dataframe tbody tr th {\n",
       "        vertical-align: top;\n",
       "    }\n",
       "\n",
       "    .dataframe thead th {\n",
       "        text-align: right;\n",
       "    }\n",
       "</style>\n",
       "<table border=\"1\" class=\"dataframe\">\n",
       "  <thead>\n",
       "    <tr style=\"text-align: right;\">\n",
       "      <th></th>\n",
       "      <th>Subject</th>\n",
       "      <th>Seizure</th>\n",
       "      <th>OnsetClonic</th>\n",
       "      <th>GTCS</th>\n",
       "      <th>Discard</th>\n",
       "    </tr>\n",
       "  </thead>\n",
       "  <tbody>\n",
       "    <tr>\n",
       "      <th>0</th>\n",
       "      <td>6</td>\n",
       "      <td>1</td>\n",
       "      <td>37.0</td>\n",
       "      <td>True</td>\n",
       "      <td>No</td>\n",
       "    </tr>\n",
       "    <tr>\n",
       "      <th>2</th>\n",
       "      <td>12</td>\n",
       "      <td>1</td>\n",
       "      <td>42.0</td>\n",
       "      <td>True</td>\n",
       "      <td>No</td>\n",
       "    </tr>\n",
       "    <tr>\n",
       "      <th>3</th>\n",
       "      <td>15</td>\n",
       "      <td>1</td>\n",
       "      <td>96.0</td>\n",
       "      <td>True</td>\n",
       "      <td>No</td>\n",
       "    </tr>\n",
       "    <tr>\n",
       "      <th>4</th>\n",
       "      <td>16</td>\n",
       "      <td>1</td>\n",
       "      <td>39.0</td>\n",
       "      <td>True</td>\n",
       "      <td>No</td>\n",
       "    </tr>\n",
       "    <tr>\n",
       "      <th>5</th>\n",
       "      <td>23</td>\n",
       "      <td>4</td>\n",
       "      <td>123.0</td>\n",
       "      <td>True</td>\n",
       "      <td>No</td>\n",
       "    </tr>\n",
       "    <tr>\n",
       "      <th>...</th>\n",
       "      <td>...</td>\n",
       "      <td>...</td>\n",
       "      <td>...</td>\n",
       "      <td>...</td>\n",
       "      <td>...</td>\n",
       "    </tr>\n",
       "    <tr>\n",
       "      <th>197</th>\n",
       "      <td>305</td>\n",
       "      <td>2</td>\n",
       "      <td>33.0</td>\n",
       "      <td>True</td>\n",
       "      <td>No</td>\n",
       "    </tr>\n",
       "    <tr>\n",
       "      <th>198</th>\n",
       "      <td>308</td>\n",
       "      <td>1</td>\n",
       "      <td>54.0</td>\n",
       "      <td>True</td>\n",
       "      <td>No</td>\n",
       "    </tr>\n",
       "    <tr>\n",
       "      <th>199</th>\n",
       "      <td>317</td>\n",
       "      <td>1</td>\n",
       "      <td>79.0</td>\n",
       "      <td>True</td>\n",
       "      <td>No</td>\n",
       "    </tr>\n",
       "    <tr>\n",
       "      <th>200</th>\n",
       "      <td>317</td>\n",
       "      <td>2</td>\n",
       "      <td>53.0</td>\n",
       "      <td>True</td>\n",
       "      <td>No</td>\n",
       "    </tr>\n",
       "    <tr>\n",
       "      <th>201</th>\n",
       "      <td>317</td>\n",
       "      <td>3</td>\n",
       "      <td>57.0</td>\n",
       "      <td>True</td>\n",
       "      <td>No</td>\n",
       "    </tr>\n",
       "  </tbody>\n",
       "</table>\n",
       "<p>67 rows × 5 columns</p>\n",
       "</div>"
      ],
      "text/plain": [
       "     Subject  Seizure  OnsetClonic  GTCS Discard\n",
       "0          6        1         37.0  True      No\n",
       "2         12        1         42.0  True      No\n",
       "3         15        1         96.0  True      No\n",
       "4         16        1         39.0  True      No\n",
       "5         23        4        123.0  True      No\n",
       "..       ...      ...          ...   ...     ...\n",
       "197      305        2         33.0  True      No\n",
       "198      308        1         54.0  True      No\n",
       "199      317        1         79.0  True      No\n",
       "200      317        2         53.0  True      No\n",
       "201      317        3         57.0  True      No\n",
       "\n",
       "[67 rows x 5 columns]"
      ]
     },
     "execution_count": 35,
     "metadata": {},
     "output_type": "execute_result"
    }
   ],
   "source": [
    "#Gathering how many generalized seizures are not discarded \n",
    "gen_ndiscarded = df[(df[\"Discard\"] == 'No') & (df[\"GTCS\"] == True)]\n",
    "count_gndis = len(gen_ndiscarded.axes[0])\n",
    "print(\"We have \"+str(count_gndis)+\" generalized seizure cases without discarded views.\")\n",
    "gen_ndiscarded"
   ]
  },
  {
   "cell_type": "code",
   "execution_count": 36,
   "id": "1dd86933-1798-44d4-9512-03d6ead65969",
   "metadata": {},
   "outputs": [
    {
     "data": {
      "image/png": "[encoded data removed]",
      "text/plain": [
       "<Figure size 432x288 with 1 Axes>"
      ]
     },
     "metadata": {},
     "output_type": "display_data"
    }
   ],
   "source": [
    "y = np.array([count_gdis, count_gndis])\n",
    "mylabels = [\"Generalized Seizures with discarded views\", \"Generalized Seizures without discarded views\"]\n",
    "explode = (0.2, 0)\n",
    "plt.pie(y, labels = mylabels, explode = explode, autopct='%1.1f%%', shadow=True, startangle=140)\n",
    "plt.title(\"Generalized Seizure cases with and without discarded views\")\n",
    "plt.show()"
   ]
  },
  {
   "cell_type": "code",
   "execution_count": 37,
   "id": "dc8bad90-7016-465d-a7c9-dadeb267fd88",
   "metadata": {},
   "outputs": [
    {
     "name": "stdout",
     "output_type": "stream",
     "text": [
      "We have 7 focal seizure cases with discarded views (large and small included).\n"
     ]
    },
    {
     "data": {
      "text/html": [
       "<div>\n",
       "<style scoped>\n",
       "    .dataframe tbody tr th:only-of-type {\n",
       "        vertical-align: middle;\n",
       "    }\n",
       "\n",
       "    .dataframe tbody tr th {\n",
       "        vertical-align: top;\n",
       "    }\n",
       "\n",
       "    .dataframe thead th {\n",
       "        text-align: right;\n",
       "    }\n",
       "</style>\n",
       "<table border=\"1\" class=\"dataframe\">\n",
       "  <thead>\n",
       "    <tr style=\"text-align: right;\">\n",
       "      <th></th>\n",
       "      <th>Subject</th>\n",
       "      <th>Seizure</th>\n",
       "      <th>OnsetClonic</th>\n",
       "      <th>GTCS</th>\n",
       "      <th>Discard</th>\n",
       "    </tr>\n",
       "  </thead>\n",
       "  <tbody>\n",
       "    <tr>\n",
       "      <th>8</th>\n",
       "      <td>30</td>\n",
       "      <td>2</td>\n",
       "      <td>NaN</td>\n",
       "      <td>False</td>\n",
       "      <td>Small</td>\n",
       "    </tr>\n",
       "    <tr>\n",
       "      <th>14</th>\n",
       "      <td>34</td>\n",
       "      <td>7</td>\n",
       "      <td>NaN</td>\n",
       "      <td>False</td>\n",
       "      <td>Yes</td>\n",
       "    </tr>\n",
       "    <tr>\n",
       "      <th>36</th>\n",
       "      <td>74</td>\n",
       "      <td>3</td>\n",
       "      <td>NaN</td>\n",
       "      <td>False</td>\n",
       "      <td>Yes</td>\n",
       "    </tr>\n",
       "    <tr>\n",
       "      <th>43</th>\n",
       "      <td>76</td>\n",
       "      <td>2</td>\n",
       "      <td>NaN</td>\n",
       "      <td>False</td>\n",
       "      <td>Yes</td>\n",
       "    </tr>\n",
       "    <tr>\n",
       "      <th>45</th>\n",
       "      <td>76</td>\n",
       "      <td>4</td>\n",
       "      <td>NaN</td>\n",
       "      <td>False</td>\n",
       "      <td>Yes</td>\n",
       "    </tr>\n",
       "    <tr>\n",
       "      <th>67</th>\n",
       "      <td>107</td>\n",
       "      <td>2</td>\n",
       "      <td>NaN</td>\n",
       "      <td>False</td>\n",
       "      <td>Yes</td>\n",
       "    </tr>\n",
       "    <tr>\n",
       "      <th>176</th>\n",
       "      <td>255</td>\n",
       "      <td>5</td>\n",
       "      <td>NaN</td>\n",
       "      <td>False</td>\n",
       "      <td>Large</td>\n",
       "    </tr>\n",
       "  </tbody>\n",
       "</table>\n",
       "</div>"
      ],
      "text/plain": [
       "     Subject  Seizure  OnsetClonic   GTCS Discard\n",
       "8         30        2          NaN  False   Small\n",
       "14        34        7          NaN  False     Yes\n",
       "36        74        3          NaN  False     Yes\n",
       "43        76        2          NaN  False     Yes\n",
       "45        76        4          NaN  False     Yes\n",
       "67       107        2          NaN  False     Yes\n",
       "176      255        5          NaN  False   Large"
      ]
     },
     "execution_count": 37,
     "metadata": {},
     "output_type": "execute_result"
    }
   ],
   "source": [
    "#Gathering how many focal seizures are discarded \n",
    "foc_discarded = df[((df[\"Discard\"] == 'Yes') | (df[\"Discard\"] == 'Small') | (df[\"Discard\"] == 'Large')) & (df[\"GTCS\"] == False)]\n",
    "count_fdis = len(foc_discarded.axes[0])\n",
    "print(\"We have \"+str(count_fdis)+\" focal seizure cases with discarded views (large and small included).\")\n",
    "foc_discarded"
   ]
  },
  {
   "cell_type": "code",
   "execution_count": 38,
   "id": "53754ac7-8ca8-457f-89ed-16b01169cd54",
   "metadata": {},
   "outputs": [
    {
     "name": "stdout",
     "output_type": "stream",
     "text": [
      "We have 141 focal seizure cases without discarded views.\n"
     ]
    },
    {
     "data": {
      "text/html": [
       "<div>\n",
       "<style scoped>\n",
       "    .dataframe tbody tr th:only-of-type {\n",
       "        vertical-align: middle;\n",
       "    }\n",
       "\n",
       "    .dataframe tbody tr th {\n",
       "        vertical-align: top;\n",
       "    }\n",
       "\n",
       "    .dataframe thead th {\n",
       "        text-align: right;\n",
       "    }\n",
       "</style>\n",
       "<table border=\"1\" class=\"dataframe\">\n",
       "  <thead>\n",
       "    <tr style=\"text-align: right;\">\n",
       "      <th></th>\n",
       "      <th>Subject</th>\n",
       "      <th>Seizure</th>\n",
       "      <th>OnsetClonic</th>\n",
       "      <th>GTCS</th>\n",
       "      <th>Discard</th>\n",
       "    </tr>\n",
       "  </thead>\n",
       "  <tbody>\n",
       "    <tr>\n",
       "      <th>1</th>\n",
       "      <td>6</td>\n",
       "      <td>2</td>\n",
       "      <td>NaN</td>\n",
       "      <td>False</td>\n",
       "      <td>No</td>\n",
       "    </tr>\n",
       "    <tr>\n",
       "      <th>9</th>\n",
       "      <td>30</td>\n",
       "      <td>3</td>\n",
       "      <td>NaN</td>\n",
       "      <td>False</td>\n",
       "      <td>No</td>\n",
       "    </tr>\n",
       "    <tr>\n",
       "      <th>10</th>\n",
       "      <td>30</td>\n",
       "      <td>4</td>\n",
       "      <td>NaN</td>\n",
       "      <td>False</td>\n",
       "      <td>No</td>\n",
       "    </tr>\n",
       "    <tr>\n",
       "      <th>11</th>\n",
       "      <td>34</td>\n",
       "      <td>3</td>\n",
       "      <td>NaN</td>\n",
       "      <td>False</td>\n",
       "      <td>No</td>\n",
       "    </tr>\n",
       "    <tr>\n",
       "      <th>12</th>\n",
       "      <td>34</td>\n",
       "      <td>4</td>\n",
       "      <td>NaN</td>\n",
       "      <td>False</td>\n",
       "      <td>No</td>\n",
       "    </tr>\n",
       "    <tr>\n",
       "      <th>...</th>\n",
       "      <td>...</td>\n",
       "      <td>...</td>\n",
       "      <td>...</td>\n",
       "      <td>...</td>\n",
       "      <td>...</td>\n",
       "    </tr>\n",
       "    <tr>\n",
       "      <th>214</th>\n",
       "      <td>321</td>\n",
       "      <td>11</td>\n",
       "      <td>NaN</td>\n",
       "      <td>False</td>\n",
       "      <td>No</td>\n",
       "    </tr>\n",
       "    <tr>\n",
       "      <th>215</th>\n",
       "      <td>321</td>\n",
       "      <td>12</td>\n",
       "      <td>NaN</td>\n",
       "      <td>False</td>\n",
       "      <td>No</td>\n",
       "    </tr>\n",
       "    <tr>\n",
       "      <th>216</th>\n",
       "      <td>321</td>\n",
       "      <td>13</td>\n",
       "      <td>NaN</td>\n",
       "      <td>False</td>\n",
       "      <td>No</td>\n",
       "    </tr>\n",
       "    <tr>\n",
       "      <th>217</th>\n",
       "      <td>321</td>\n",
       "      <td>14</td>\n",
       "      <td>NaN</td>\n",
       "      <td>False</td>\n",
       "      <td>No</td>\n",
       "    </tr>\n",
       "    <tr>\n",
       "      <th>219</th>\n",
       "      <td>321</td>\n",
       "      <td>16</td>\n",
       "      <td>NaN</td>\n",
       "      <td>False</td>\n",
       "      <td>No</td>\n",
       "    </tr>\n",
       "  </tbody>\n",
       "</table>\n",
       "<p>141 rows × 5 columns</p>\n",
       "</div>"
      ],
      "text/plain": [
       "     Subject  Seizure  OnsetClonic   GTCS Discard\n",
       "1          6        2          NaN  False      No\n",
       "9         30        3          NaN  False      No\n",
       "10        30        4          NaN  False      No\n",
       "11        34        3          NaN  False      No\n",
       "12        34        4          NaN  False      No\n",
       "..       ...      ...          ...    ...     ...\n",
       "214      321       11          NaN  False      No\n",
       "215      321       12          NaN  False      No\n",
       "216      321       13          NaN  False      No\n",
       "217      321       14          NaN  False      No\n",
       "219      321       16          NaN  False      No\n",
       "\n",
       "[141 rows x 5 columns]"
      ]
     },
     "execution_count": 38,
     "metadata": {},
     "output_type": "execute_result"
    }
   ],
   "source": [
    "#Gathering how many focal seizures are not discarded \n",
    "foc_ndiscarded = df[(df[\"Discard\"] == 'No') & (df[\"GTCS\"] == False)]\n",
    "count_fndis = len(foc_ndiscarded.axes[0])\n",
    "print(\"We have \"+str(count_fndis)+\" focal seizure cases without discarded views.\")\n",
    "foc_ndiscarded"
   ]
  },
  {
   "cell_type": "code",
   "execution_count": 39,
   "id": "4907ee5c-6709-473e-82e2-d87bf5ba6aa5",
   "metadata": {},
   "outputs": [
    {
     "data": {
      "image/png": "[encoded data removed]",
      "text/plain": [
       "<Figure size 432x288 with 1 Axes>"
      ]
     },
     "metadata": {},
     "output_type": "display_data"
    }
   ],
   "source": [
    "y = np.array([count_fdis, count_fndis])\n",
    "mylabels = [\"Focal Seizures with discarded views\", \"Focal Seizures without discarded views\"]\n",
    "explode = (0.2, 0)\n",
    "plt.pie(y, labels = mylabels, explode = explode, autopct='%1.1f%%', shadow=True, startangle=140)\n",
    "plt.title(\"Focal Seizure cases with and without discarded views\")\n",
    "plt.show()"
   ]
  },
  {
   "cell_type": "markdown",
   "id": "512d0d9f-f6a1-4b03-873d-a7ba0aa3912b",
   "metadata": {
    "tags": []
   },
   "source": [
    "<div style=\"text-align: left\"> <h3>Bar plots for Discard and GTCS variables.</h3></div>"
   ]
  },
  {
   "cell_type": "code",
   "execution_count": 40,
   "id": "33d58b65-fde8-472d-9c28-9a8cc569bb57",
   "metadata": {},
   "outputs": [
    {
     "data": {
      "text/plain": [
       "<AxesSubplot:title={'center':'How many views have been discarded?'}>"
      ]
     },
     "execution_count": 40,
     "metadata": {},
     "output_type": "execute_result"
    },
    {
     "data": {
      "image/png": "[encoded data removed]",
      "text/plain": [
       "<Figure size 288x288 with 1 Axes>"
      ]
     },
     "metadata": {
      "needs_background": "light"
     },
     "output_type": "display_data"
    }
   ],
   "source": [
    "plt.rcParams['figure.figsize'] = [4, 4]\n",
    "df.Discard.value_counts().plot(kind='bar', title = 'How many views have been discarded?')"
   ]
  },
  {
   "cell_type": "code",
   "execution_count": 41,
   "id": "c25a633a-077d-4bdb-b562-5cba537d8c6b",
   "metadata": {},
   "outputs": [
    {
     "data": {
      "text/plain": [
       "<AxesSubplot:title={'center':'Focal vs Generalized'}>"
      ]
     },
     "execution_count": 41,
     "metadata": {},
     "output_type": "execute_result"
    },
    {
     "data": {
      "image/png": "[encoded data removed]",
      "text/plain": [
       "<Figure size 288x288 with 1 Axes>"
      ]
     },
     "metadata": {
      "needs_background": "light"
     },
     "output_type": "display_data"
    }
   ],
   "source": [
    "df.GTCS.value_counts().plot(kind='bar', title = 'Focal vs Generalized')"
   ]
  },
  {
   "cell_type": "markdown",
   "id": "3fbaec4a-5a30-404a-bdb2-a82296375337",
   "metadata": {},
   "source": [
    "<div style=\"text-align: left\"> <h3>We will see the display of two columns now and not work individually with one column. More specifically, we will see how many generalized, focal and generally how many seizures we have per patient.</h3></div> "
   ]
  },
  {
   "cell_type": "code",
   "execution_count": 42,
   "id": "709ada00-559f-46a2-88ac-780ecd69860d",
   "metadata": {},
   "outputs": [
    {
     "data": {
      "image/png": "[encoded data removed]",
      "text/plain": [
       "<Figure size 1152x288 with 1 Axes>"
      ]
     },
     "metadata": {
      "needs_background": "light"
     },
     "output_type": "display_data"
    }
   ],
   "source": [
    "#Let's create a bar plot where we see how many seizures we have per patient\n",
    "counts = df.groupby('Subject')['Seizure'].count()\n",
    "counts.plot(kind='bar',\n",
    "            title = \"How many seizures correspond to each patient?\",\n",
    "            figsize=(16,4));               "
   ]
  },
  {
   "cell_type": "code",
   "execution_count": 43,
   "id": "d5ed51be-d1fd-43f2-96d6-6d77ec87eebd",
   "metadata": {},
   "outputs": [],
   "source": [
    "generalized = df[df.GTCS == True] \n",
    "focal = df[df.GTCS == False]"
   ]
  },
  {
   "cell_type": "code",
   "execution_count": 44,
   "id": "10e1254e-d86d-4b8b-8f59-2f10077fae1b",
   "metadata": {},
   "outputs": [
    {
     "data": {
      "image/png": "[encoded data removed]",
      "text/plain": [
       "<Figure size 1080x216 with 1 Axes>"
      ]
     },
     "metadata": {
      "needs_background": "light"
     },
     "output_type": "display_data"
    }
   ],
   "source": [
    "counts1 = generalized.groupby('Subject')['Seizure'].count()\n",
    "counts1.plot(kind='bar',\n",
    "            title = \"How many generalized seizures correspond to each patient?\",\n",
    "            figsize=(15,3)); "
   ]
  },
  {
   "cell_type": "code",
   "execution_count": 45,
   "id": "2e4ab551-aa93-4449-9429-3e4b39e6092f",
   "metadata": {},
   "outputs": [
    {
     "data": {
      "image/png": "[encoded data removed]",
      "text/plain": [
       "<Figure size 1152x288 with 1 Axes>"
      ]
     },
     "metadata": {
      "needs_background": "light"
     },
     "output_type": "display_data"
    }
   ],
   "source": [
    "counts2 = focal.groupby('Subject')['Seizure'].count()\n",
    "counts2.plot(kind='bar',\n",
    "            title = \"How many focal seizures correspond to each patient?\",\n",
    "            figsize=(16,4)); "
   ]
  },
  {
   "cell_type": "code",
   "execution_count": 46,
   "id": "88ca960d-ff04-4150-a519-70e7fb48aeb3",
   "metadata": {},
   "outputs": [
    {
     "data": {
      "image/png": "[encoded data removed]",
      "text/plain": [
       "<Figure size 1152x288 with 1 Axes>"
      ]
     },
     "metadata": {
      "needs_background": "light"
     },
     "output_type": "display_data"
    }
   ],
   "source": [
    "mean = generalized.groupby('Subject')['OnsetClonic'].mean()\n",
    "mean.plot(kind='bar',\n",
    "          title = \"mean of generalizing point (in seconds) corresponding to each patient\",\n",
    "          figsize=(16,4)); "
   ]
  },
  {
   "cell_type": "code",
   "execution_count": 47,
   "id": "47329221-e98a-4e24-8556-b18c595facf8",
   "metadata": {},
   "outputs": [],
   "source": [
    "secs = generalized.OnsetClonic\n",
    "patients = generalized.Subject"
   ]
  },
  {
   "cell_type": "markdown",
   "id": "c4aa5b6a-ed80-4eae-9712-de9bd73f1d60",
   "metadata": {},
   "source": [
    "<div style=\"text-align: left\"> <h3>The following is a histogram showing the spectrum in time where most incidents generalize.</h3></div>"
   ]
  },
  {
   "cell_type": "code",
   "execution_count": 48,
   "id": "db31faf7-21f9-4055-b99f-a8df36baaba3",
   "metadata": {},
   "outputs": [
    {
     "data": {
      "image/png": "[encoded data removed]",
      "text/plain": [
       "<Figure size 288x288 with 1 Axes>"
      ]
     },
     "metadata": {
      "needs_background": "light"
     },
     "output_type": "display_data"
    }
   ],
   "source": [
    "plt.hist(secs, density=False, color ='red', edgecolor='black', bins=100)\n",
    "plt.rcParams['figure.figsize'] = [8, 8]\n",
    "plt.title('Histogram to display where most of the cases tend to get generalized', fontsize=12, fontweight = \"bold\")\n",
    "plt.xlabel('seconds when seizure generalizes', fontsize=12)\n",
    "plt.ylabel('number of generalized seizures', fontsize=12)\n",
    "plt.show()"
   ]
  },
  {
   "cell_type": "markdown",
   "id": "0e3cc123-2978-4f0f-b60f-3d30db89417f",
   "metadata": {},
   "source": [
    "<div style=\"text-align: left\"> <h3>Observing carefully where the values 30 secs and 120 secs are, which are also the values ​​that delimit a normal period of time for an epileptic episode, we see that the majority of the starting points of the generalization of each seizure are in this range of values, so indeed a seizure tends to become generalized towards its end. We also see divergent values if in urgent circumstances, i.e. cases where the time period exceeds 5 minutes.\n",
    "</h3></div> "
   ]
  },
  {
   "cell_type": "markdown",
   "id": "b48f8902-e724-4e6d-aed3-b52e34239c0c",
   "metadata": {},
   "source": [
    "<div style=\"text-align: left\"> <h3>This concludes the analysis of the 68 patients we examine in this data set.</h3></div>"
   ]
  }
 ],
 "metadata": {
  "kernelspec": {
   "display_name": "Python 3 (ipykernel)",
   "language": "python",
   "name": "python3"
  },
  "language_info": {
   "codemirror_mode": {
    "name": "ipython",
    "version": 3
   },
   "file_extension": ".py",
   "mimetype": "text/x-python",
   "name": "python",
   "nbconvert_exporter": "python",
   "pygments_lexer": "ipython3",
   "version": "3.9.12"
  }
 },
 "nbformat": 4,
 "nbformat_minor": 5
}
