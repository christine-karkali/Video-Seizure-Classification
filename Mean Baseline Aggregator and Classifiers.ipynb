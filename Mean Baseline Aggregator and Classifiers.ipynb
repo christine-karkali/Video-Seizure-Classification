{
 "cells": [
  {
   "cell_type": "markdown",
   "id": "36661b1d-dca4-4b21-9cd8-14d2d3fae24c",
   "metadata": {},
   "source": [
    "<div style=\"text-align: center\"> <h1>Mean Baseline Aggregator and Classification Model</h1></div>"
   ]
  },
  {
   "cell_type": "markdown",
   "id": "26ed1029-6999-4f2e-9b07-0c6fbf2bee86",
   "metadata": {},
   "source": [
    "<div style=\"text-align: left\"> <h3>We test different algorithms for classification after finding the mean np array for each of the 434 samples we have in the form (patient number_epileptic episode number_large/small view)</h3></div>"
   ]
  },
  {
   "cell_type": "code",
   "execution_count": 1,
   "id": "41b4fc30-0072-492e-bd34-7b16469166c2",
   "metadata": {},
   "outputs": [],
   "source": [
    "#Libraries\n",
    "import pandas as pd\n",
    "import numpy as np\n",
    "import torch\n",
    "import os\n",
    "import torchvision\n",
    "from torch import utils\n",
    "import torch.nn as nn\n",
    "from torch.utils import data\n",
    "from torch.utils.data import Dataset\n",
    "import torchvision\n",
    "from torchvision import datasets\n",
    "from torchvision.datasets import DatasetFolder\n",
    "from torch.utils.data import DataLoader\n",
    "#add seaborn module for graphs and etc. regarding the classifier\n",
    "import seaborn as sns\n",
    "import matplotlib.pyplot as plt\n",
    "from sklearn import metrics"
   ]
  },
  {
   "cell_type": "code",
   "execution_count": 2,
   "id": "d6530ce3-890d-4748-bbf6-efe5aa31c657",
   "metadata": {},
   "outputs": [],
   "source": [
    "#KNN Classifier\n",
    "from sklearn.neighbors import KNeighborsClassifier\n",
    "#Logistic Regression\n",
    "from sklearn.linear_model import LogisticRegression\n",
    "#Desicion Tree\n",
    "from sklearn.tree import DecisionTreeClassifier\n",
    "#Random Forest\n",
    "from sklearn.ensemble import RandomForestClassifier\n",
    "#Support Vector Machine\n",
    "from sklearn.svm import SVC\n",
    "#Naive Bayers\n",
    "from sklearn.naive_bayes import GaussianNB\n",
    "#we want to add some classifiers on this model \n",
    "from sklearn.ensemble import GradientBoostingClassifier, AdaBoostClassifier, ExtraTreesClassifier, BaggingClassifier, VotingClassifier\n",
    "#Scaler\n",
    "from sklearn.preprocessing import StandardScaler\n",
    "#Split\n",
    "from sklearn.model_selection import train_test_split, cross_val_score, validation_curve, learning_curve\n",
    "#Accuracy Score Metric\n",
    "from sklearn.metrics import accuracy_score, precision_score, recall_score, classification_report, confusion_matrix\n",
    "#pipeline for logistic regression classifier\n",
    "from sklearn.pipeline import make_pipeline\n",
    "from sklearn.model_selection import ShuffleSplit\n",
    "#Cross validation \n",
    "from sklearn.model_selection import KFold, StratifiedKFold\n",
    "from sklearn.model_selection import cross_val_score\n",
    "from numpy import mean\n",
    "from numpy import std"
   ]
  },
  {
   "cell_type": "markdown",
   "id": "fc343ae6-4627-4dbe-87ea-f3300180111c",
   "metadata": {},
   "source": [
    "<div style=\"text-align: left\"> <h3>Mean Baseline Aggregation Step</h3></div>"
   ]
  },
  {
   "cell_type": "code",
   "execution_count": 3,
   "id": "1b021d48-f207-4710-8651-f01aafb54c93",
   "metadata": {
    "tags": []
   },
   "outputs": [],
   "source": [
    "#We have y meaning what we would like to predict and x is the predictors \n",
    "#and our predictors is the feature vectors we extracted from our pretained CNN\n",
    "\n",
    "# x in mean baseline aggregation is average feature vectors\n",
    "#Μάλλον δεν ήταν καλή ιδέα να βρούμε το average της λίστας των feature vectors\n",
    "#θα βρώ αθρίσω τους feature vectors και θα τους διαιρέσω με το πλήθος τους\n",
    "#p = r\"features_fpc_8_fps_15\"\n",
    "#os.mkdir(\"mba/\") #create a directory for mean baseline aggregator\n",
    "#for folder in os.listdir(p):\n",
    " #   f = os.path.join(p, folder)\n",
    "  #  if os.path.isdir(f):\n",
    "   #     s = np.zeros(512)\n",
    "    #    counter = 0\n",
    "     #   for feat_vec in os.listdir(f):\n",
    "      #      t = os.path.join(f, feat_vec)\n",
    "       #     vec = torch.load(p+'/'+folder+'/'+feat_vec) #load each vector\n",
    "        #    vec = vec.numpy() #turning each tensor to numpy array            \n",
    "         #   s = np.add(s, vec) #keep the aggregation of all feature vectors in a folder represent large or small view of seizure\n",
    "          #  counter = counter + 1 #keep how many feature vectors represent the view\n",
    "            \n",
    "    #av = s / counter \n",
    "    #av_vec = np.save('mba/'+folder+'_average.npy', av)"
   ]
  },
  {
   "cell_type": "code",
   "execution_count": 4,
   "id": "633409b7-f4cf-4af0-84d3-dd5c7e50fbcd",
   "metadata": {
    "tags": []
   },
   "outputs": [
    {
     "name": "stdout",
     "output_type": "stream",
     "text": [
      "[0.80573549 1.75627408 0.73572741 0.34125502 0.09718032 1.08343956\n",
      " 0.3247905  0.40239627 0.6064396  0.47286656 0.3260112  0.77627225\n",
      " 0.29286558 0.80331253 0.3194959  0.67238537 0.12523341 0.26634707\n",
      " 1.05242044 0.86226834 1.11264797 0.79546296 0.71946108 1.38167551\n",
      " 1.48602105 0.39981495 1.63833926 2.04905452 0.26081308 1.32071959\n",
      " 0.49361028 0.26188179 1.14433644 0.7541155  1.32027442 1.21194902\n",
      " 0.79273511 0.52555548 1.5240677  0.92726256 1.19267878 1.41805038\n",
      " 1.9954092  0.66396571 0.72423098 1.55533289 1.65165961 0.31687049\n",
      " 2.39991881 0.31679899 0.69183243 0.43824668 0.49786703 2.17389881\n",
      " 1.39540052 1.08428315 0.11626802 0.53575595 0.87626588 1.1846998\n",
      " 0.43974598 1.3985597  0.13873972 0.62850884 0.74073505 1.03623362\n",
      " 0.46223999 0.65097047 2.6557976  1.54977009 0.33842235 0.29614849\n",
      " 0.78544275 0.12573167 0.34566408 0.78519491 0.33883397 1.23692269\n",
      " 1.44776413 0.19371193 1.62124265 1.36414918 0.33500346 0.51380889\n",
      " 0.5433228  0.6634291  0.23058667 0.29802861 0.43406322 0.44770955\n",
      " 1.23597512 0.48343498 1.78767698 1.13801808 0.13484691 0.87610037\n",
      " 0.69321506 1.19534364 0.5778075  1.19613617 0.72056619 0.07697935\n",
      " 0.65409462 1.11156216 0.16487126 0.54205127 0.51761245 0.46559053\n",
      " 0.21195706 1.06157837 1.18326011 1.37801706 0.21817827 0.08771166\n",
      " 0.70640051 1.08695971 0.81060164 0.6651275  0.49369488 0.12213412\n",
      " 0.18127495 1.27398976 0.43236006 0.18759251 1.0111928  0.10761787\n",
      " 1.43411384 1.26436003 0.53181502 1.04867011 0.68322119 2.03669591\n",
      " 0.19037105 0.75245141 0.86096468 0.793457   0.39830998 0.98658222\n",
      " 0.6988345  1.23236709 0.93192425 0.21269381 0.34042684 1.25410209\n",
      " 0.30003641 0.09052525 1.18475308 0.63288064 0.49636527 0.30389727\n",
      " 1.35823226 0.57982279 0.30490301 1.27653752 2.09262349 0.42540207\n",
      " 1.19071562 1.69746476 0.60508271 0.13825741 0.28001038 1.96612014\n",
      " 0.92324124 0.34843015 0.57807615 0.55123873 1.15066628 1.43327684\n",
      " 1.77769942 1.05878222 0.29050927 1.79716262 1.35921947 1.26617267\n",
      " 0.56590802 0.2337123  1.10171275 0.55862767 0.2445177  0.34079047\n",
      " 0.54389938 1.97652359 0.25657292 1.34973189 1.47140302 0.55397278\n",
      " 0.49949729 1.34236769 0.14061184 0.82253956 0.34197193 1.47200533\n",
      " 0.82045296 2.01958104 0.72049557 0.65209365 1.51088758 1.11142535\n",
      " 1.23924273 1.41574079 0.97037103 0.72974937 0.29987254 0.66745722\n",
      " 2.58690879 0.3680334  0.55027076 0.31690495 0.67981268 1.02277199\n",
      " 1.40723604 0.38616027 0.76779675 0.42995956 0.17787201 0.5470013\n",
      " 0.49147822 0.99594726 0.55356351 0.92760776 0.63996755 0.28953097\n",
      " 0.39933673 0.58249898 0.53489603 0.8059903  1.18534057 0.79797064\n",
      " 0.86873761 0.38359953 0.60548714 0.45226523 1.163069   2.76681559\n",
      " 1.82533283 0.26033702 1.31444803 0.41847728 0.59049228 0.46125762\n",
      " 0.23527596 1.23682302 0.18864486 0.3678973  0.72715292 0.47102918\n",
      " 0.35843919 2.187363   0.31563933 0.17574752 1.53960114 1.0790593\n",
      " 2.20332783 0.37785227 1.28512356 0.22761714 0.77558543 0.63429638\n",
      " 1.39381162 1.35915643 0.71692782 0.3828016  0.71300932 0.26832618\n",
      " 1.45158492 1.43334449 1.00348802 1.75766327 1.12377031 0.52406864\n",
      " 0.43205339 0.94520632 1.05964149 0.37816211 0.72519227 1.23332458\n",
      " 0.27399921 0.30128765 0.49345319 1.44722964 1.34368269 1.02287845\n",
      " 0.61549073 0.62945549 0.40869555 0.33078298 0.324964   0.42104946\n",
      " 0.08104434 1.27413418 0.2482622  1.26013696 1.57872288 0.7413539\n",
      " 0.69225925 0.61985104 0.21598379 1.66692656 0.18512747 0.67188016\n",
      " 0.66991411 0.17296893 1.10745096 0.5829146  0.91008624 1.06030203\n",
      " 1.25796297 0.62327565 0.29473728 0.55305851 0.75898059 0.41318657\n",
      " 0.33290957 0.34598675 0.76924637 1.38692011 0.66319641 0.3022683\n",
      " 1.22221805 0.36517864 0.67476799 1.08969051 0.52212618 1.42706336\n",
      " 0.5779141  1.52462651 0.30611125 0.90626632 0.50504976 0.82769761\n",
      " 1.75223872 0.22150482 0.66821234 0.41751453 0.98846031 2.0398105\n",
      " 0.83095513 1.56359989 1.22944467 0.06860942 0.02802166 0.74805827\n",
      " 1.76178501 1.72111782 0.36262052 0.74449255 1.71433806 1.34123712\n",
      " 0.52354122 0.20040491 0.7912673  0.60635969 0.46906335 1.9202493\n",
      " 1.24574216 0.45787286 0.16123058 0.1083184  0.73082627 0.55802606\n",
      " 0.80032273 2.29843003 0.40164516 1.30221251 1.58546099 0.57112929\n",
      " 0.46259202 1.3848469  1.38640927 0.28918018 0.58975828 0.225842\n",
      " 0.92613884 0.85062595 1.16917258 0.54009937 1.86445999 0.15765365\n",
      " 0.57342882 1.54897786 2.20475614 0.58849698 1.68506525 0.32833461\n",
      " 0.5720564  0.63403655 1.0397587  0.60136735 0.61990173 0.8771451\n",
      " 0.40248892 1.30908318 1.07006847 0.6467503  0.96449535 0.68786189\n",
      " 1.78295818 0.86238579 1.80223807 0.43970648 0.38475157 0.73008024\n",
      " 0.07187263 0.90340143 1.26444117 1.16309895 0.83854457 0.90734192\n",
      " 0.7788549  0.92949044 1.23788711 0.83571272 0.87331342 0.93742126\n",
      " 0.45175744 0.61723147 0.76946949 0.82571997 0.13174127 0.58508845\n",
      " 0.28038792 1.10769085 0.69708528 1.47381657 0.96779954 0.62747436\n",
      " 1.44404444 0.25584471 1.63419599 0.47542712 0.44381517 0.24483576\n",
      " 0.95736865 0.44530313 0.81868379 1.11961013 0.38673056 1.29091086\n",
      " 0.7475439  1.36562981 1.53787308 0.82898313 0.61743037 0.59480004\n",
      " 1.37177066 1.06416583 0.46205887 0.56178271 0.48194868 1.38092663\n",
      " 1.32153235 0.98918061 0.37147438 0.58714379 0.58706256 1.35932181\n",
      " 1.32917238 0.12882477 0.84651137 0.98747021 0.16693989 0.26037089\n",
      " 0.70950127 0.45970046 1.2224473  0.18636667 1.1706662  1.54976017\n",
      " 0.87949065 0.48916968 1.2115285  0.66535435 2.22252396 0.81544083\n",
      " 0.93520073 0.67937258 0.36744608 0.19224029 0.30341522 0.27698338\n",
      " 0.37542152 0.50879449 1.10255334 0.24413434 1.83478938 0.73213012\n",
      " 1.24346606 0.51674647 0.72852242 0.44095227 0.67651884 0.98373114\n",
      " 0.74963496 0.81357982 0.6660164  0.15179694 0.46328375 1.98962948\n",
      " 0.23027145 1.54192814 0.38382263 1.05105224 1.19305492 0.09852825\n",
      " 0.6096075  1.53008022 0.52121816 0.89986366 0.38031489 1.04104344\n",
      " 0.41411005 0.86969624]\n"
     ]
    }
   ],
   "source": [
    "av_array = np.load('mba/030_02_L_average.npy')\n",
    "print(av_array)\n",
    "#mba stands for mean baseline aggregator"
   ]
  },
  {
   "cell_type": "markdown",
   "id": "30b00d47-c0cf-4161-9735-02eeee59c3c9",
   "metadata": {},
   "source": [
    "<div style=\"text-align: left\"> <h3>Setting y as the classification target</h3></div>"
   ]
  },
  {
   "cell_type": "code",
   "execution_count": 5,
   "id": "35c7244b-5902-4955-b5f4-87dfa4766543",
   "metadata": {},
   "outputs": [
    {
     "data": {
      "text/html": [
       "<div>\n",
       "<style scoped>\n",
       "    .dataframe tbody tr th:only-of-type {\n",
       "        vertical-align: middle;\n",
       "    }\n",
       "\n",
       "    .dataframe tbody tr th {\n",
       "        vertical-align: top;\n",
       "    }\n",
       "\n",
       "    .dataframe thead th {\n",
       "        text-align: right;\n",
       "    }\n",
       "</style>\n",
       "<table border=\"1\" class=\"dataframe\">\n",
       "  <thead>\n",
       "    <tr style=\"text-align: right;\">\n",
       "      <th></th>\n",
       "      <th>Subject</th>\n",
       "      <th>Seizure</th>\n",
       "      <th>OnsetClonic</th>\n",
       "      <th>GTCS</th>\n",
       "      <th>Discard</th>\n",
       "    </tr>\n",
       "  </thead>\n",
       "  <tbody>\n",
       "    <tr>\n",
       "      <th>0</th>\n",
       "      <td>6</td>\n",
       "      <td>1</td>\n",
       "      <td>37.0</td>\n",
       "      <td>True</td>\n",
       "      <td>No</td>\n",
       "    </tr>\n",
       "    <tr>\n",
       "      <th>1</th>\n",
       "      <td>6</td>\n",
       "      <td>2</td>\n",
       "      <td>NaN</td>\n",
       "      <td>False</td>\n",
       "      <td>No</td>\n",
       "    </tr>\n",
       "    <tr>\n",
       "      <th>2</th>\n",
       "      <td>12</td>\n",
       "      <td>1</td>\n",
       "      <td>42.0</td>\n",
       "      <td>True</td>\n",
       "      <td>No</td>\n",
       "    </tr>\n",
       "    <tr>\n",
       "      <th>3</th>\n",
       "      <td>15</td>\n",
       "      <td>1</td>\n",
       "      <td>96.0</td>\n",
       "      <td>True</td>\n",
       "      <td>No</td>\n",
       "    </tr>\n",
       "    <tr>\n",
       "      <th>4</th>\n",
       "      <td>16</td>\n",
       "      <td>1</td>\n",
       "      <td>39.0</td>\n",
       "      <td>True</td>\n",
       "      <td>No</td>\n",
       "    </tr>\n",
       "    <tr>\n",
       "      <th>...</th>\n",
       "      <td>...</td>\n",
       "      <td>...</td>\n",
       "      <td>...</td>\n",
       "      <td>...</td>\n",
       "      <td>...</td>\n",
       "    </tr>\n",
       "    <tr>\n",
       "      <th>215</th>\n",
       "      <td>321</td>\n",
       "      <td>12</td>\n",
       "      <td>NaN</td>\n",
       "      <td>False</td>\n",
       "      <td>No</td>\n",
       "    </tr>\n",
       "    <tr>\n",
       "      <th>216</th>\n",
       "      <td>321</td>\n",
       "      <td>13</td>\n",
       "      <td>NaN</td>\n",
       "      <td>False</td>\n",
       "      <td>No</td>\n",
       "    </tr>\n",
       "    <tr>\n",
       "      <th>217</th>\n",
       "      <td>321</td>\n",
       "      <td>14</td>\n",
       "      <td>NaN</td>\n",
       "      <td>False</td>\n",
       "      <td>No</td>\n",
       "    </tr>\n",
       "    <tr>\n",
       "      <th>218</th>\n",
       "      <td>321</td>\n",
       "      <td>15</td>\n",
       "      <td>57.0</td>\n",
       "      <td>True</td>\n",
       "      <td>Small</td>\n",
       "    </tr>\n",
       "    <tr>\n",
       "      <th>219</th>\n",
       "      <td>321</td>\n",
       "      <td>16</td>\n",
       "      <td>NaN</td>\n",
       "      <td>False</td>\n",
       "      <td>No</td>\n",
       "    </tr>\n",
       "  </tbody>\n",
       "</table>\n",
       "<p>220 rows × 5 columns</p>\n",
       "</div>"
      ],
      "text/plain": [
       "     Subject  Seizure  OnsetClonic   GTCS Discard\n",
       "0          6        1         37.0   True      No\n",
       "1          6        2          NaN  False      No\n",
       "2         12        1         42.0   True      No\n",
       "3         15        1         96.0   True      No\n",
       "4         16        1         39.0   True      No\n",
       "..       ...      ...          ...    ...     ...\n",
       "215      321       12          NaN  False      No\n",
       "216      321       13          NaN  False      No\n",
       "217      321       14          NaN  False      No\n",
       "218      321       15         57.0   True   Small\n",
       "219      321       16          NaN  False      No\n",
       "\n",
       "[220 rows x 5 columns]"
      ]
     },
     "execution_count": 5,
     "metadata": {},
     "output_type": "execute_result"
    }
   ],
   "source": [
    "#Διαβάζω το csv αρχείο μας\n",
    "df = pd.read_csv(\"seizures.csv\")\n",
    "#Εκτυπώνω το dataframe που δημιουργείται\n",
    "df"
   ]
  },
  {
   "cell_type": "code",
   "execution_count": 6,
   "id": "5532ec10-e902-4ee9-b2c9-e572c3f81101",
   "metadata": {},
   "outputs": [
    {
     "name": "stdout",
     "output_type": "stream",
     "text": [
      "Subject          int64\n",
      "Seizure          int64\n",
      "OnsetClonic    float64\n",
      "GTCS              bool\n",
      "Discard         object\n",
      "dtype: object\n"
     ]
    }
   ],
   "source": [
    "#We want to predict GTCS column\n",
    "# 1: True (TCS-Generalized)\n",
    "# 0: False (FOS-Focal)\n",
    "\n",
    "print(df.dtypes) # let's see all the columns' data types at first"
   ]
  },
  {
   "cell_type": "code",
   "execution_count": 7,
   "id": "4b74d3e3-04c7-4311-afce-34321c21f031",
   "metadata": {},
   "outputs": [
    {
     "name": "stdout",
     "output_type": "stream",
     "text": [
      "     Subject  Seizure  OnsetClonic  GTCS Discard\n",
      "0          6        1         37.0     1      No\n",
      "1          6        2          NaN     0      No\n",
      "2         12        1         42.0     1      No\n",
      "3         15        1         96.0     1      No\n",
      "4         16        1         39.0     1      No\n",
      "..       ...      ...          ...   ...     ...\n",
      "215      321       12          NaN     0      No\n",
      "216      321       13          NaN     0      No\n",
      "217      321       14          NaN     0      No\n",
      "218      321       15         57.0     1   Small\n",
      "219      321       16          NaN     0      No\n",
      "\n",
      "[220 rows x 5 columns]\n"
     ]
    }
   ],
   "source": [
    "df1 = df.copy()                                      # Create copy of DataFrame\n",
    "df1['GTCS'] = df1['GTCS'].astype(int)                    # Transform boolean to integer\n",
    "print(df1)                                           # Print updated pandas DataFrame\n",
    "df1.to_csv('seizures2.csv')  "
   ]
  },
  {
   "cell_type": "code",
   "execution_count": 8,
   "id": "822621aa-6ecc-4bfa-b32a-1a00e96063f9",
   "metadata": {},
   "outputs": [
    {
     "data": {
      "text/html": [
       "<div>\n",
       "<style scoped>\n",
       "    .dataframe tbody tr th:only-of-type {\n",
       "        vertical-align: middle;\n",
       "    }\n",
       "\n",
       "    .dataframe tbody tr th {\n",
       "        vertical-align: top;\n",
       "    }\n",
       "\n",
       "    .dataframe thead th {\n",
       "        text-align: right;\n",
       "    }\n",
       "</style>\n",
       "<table border=\"1\" class=\"dataframe\">\n",
       "  <thead>\n",
       "    <tr style=\"text-align: right;\">\n",
       "      <th></th>\n",
       "      <th>Subject</th>\n",
       "      <th>Seizure</th>\n",
       "      <th>OnsetClonic</th>\n",
       "      <th>GTCS</th>\n",
       "      <th>Discard</th>\n",
       "    </tr>\n",
       "  </thead>\n",
       "  <tbody>\n",
       "    <tr>\n",
       "      <th>0</th>\n",
       "      <td>6</td>\n",
       "      <td>1</td>\n",
       "      <td>37.0</td>\n",
       "      <td>1</td>\n",
       "      <td>No</td>\n",
       "    </tr>\n",
       "    <tr>\n",
       "      <th>1</th>\n",
       "      <td>6</td>\n",
       "      <td>2</td>\n",
       "      <td>NaN</td>\n",
       "      <td>0</td>\n",
       "      <td>No</td>\n",
       "    </tr>\n",
       "    <tr>\n",
       "      <th>2</th>\n",
       "      <td>12</td>\n",
       "      <td>1</td>\n",
       "      <td>42.0</td>\n",
       "      <td>1</td>\n",
       "      <td>No</td>\n",
       "    </tr>\n",
       "    <tr>\n",
       "      <th>3</th>\n",
       "      <td>15</td>\n",
       "      <td>1</td>\n",
       "      <td>96.0</td>\n",
       "      <td>1</td>\n",
       "      <td>No</td>\n",
       "    </tr>\n",
       "    <tr>\n",
       "      <th>4</th>\n",
       "      <td>16</td>\n",
       "      <td>1</td>\n",
       "      <td>39.0</td>\n",
       "      <td>1</td>\n",
       "      <td>No</td>\n",
       "    </tr>\n",
       "    <tr>\n",
       "      <th>...</th>\n",
       "      <td>...</td>\n",
       "      <td>...</td>\n",
       "      <td>...</td>\n",
       "      <td>...</td>\n",
       "      <td>...</td>\n",
       "    </tr>\n",
       "    <tr>\n",
       "      <th>215</th>\n",
       "      <td>321</td>\n",
       "      <td>12</td>\n",
       "      <td>NaN</td>\n",
       "      <td>0</td>\n",
       "      <td>No</td>\n",
       "    </tr>\n",
       "    <tr>\n",
       "      <th>216</th>\n",
       "      <td>321</td>\n",
       "      <td>13</td>\n",
       "      <td>NaN</td>\n",
       "      <td>0</td>\n",
       "      <td>No</td>\n",
       "    </tr>\n",
       "    <tr>\n",
       "      <th>217</th>\n",
       "      <td>321</td>\n",
       "      <td>14</td>\n",
       "      <td>NaN</td>\n",
       "      <td>0</td>\n",
       "      <td>No</td>\n",
       "    </tr>\n",
       "    <tr>\n",
       "      <th>218</th>\n",
       "      <td>321</td>\n",
       "      <td>15</td>\n",
       "      <td>57.0</td>\n",
       "      <td>1</td>\n",
       "      <td>Small</td>\n",
       "    </tr>\n",
       "    <tr>\n",
       "      <th>219</th>\n",
       "      <td>321</td>\n",
       "      <td>16</td>\n",
       "      <td>NaN</td>\n",
       "      <td>0</td>\n",
       "      <td>No</td>\n",
       "    </tr>\n",
       "  </tbody>\n",
       "</table>\n",
       "<p>220 rows × 5 columns</p>\n",
       "</div>"
      ],
      "text/plain": [
       "     Subject  Seizure  OnsetClonic  GTCS Discard\n",
       "0          6        1         37.0     1      No\n",
       "1          6        2          NaN     0      No\n",
       "2         12        1         42.0     1      No\n",
       "3         15        1         96.0     1      No\n",
       "4         16        1         39.0     1      No\n",
       "..       ...      ...          ...   ...     ...\n",
       "215      321       12          NaN     0      No\n",
       "216      321       13          NaN     0      No\n",
       "217      321       14          NaN     0      No\n",
       "218      321       15         57.0     1   Small\n",
       "219      321       16          NaN     0      No\n",
       "\n",
       "[220 rows x 5 columns]"
      ]
     },
     "execution_count": 8,
     "metadata": {},
     "output_type": "execute_result"
    }
   ],
   "source": [
    "dfr = pd.read_csv(\"seizures2.csv\")\n",
    "dfr.drop(columns=dfr.columns[0], axis=1, inplace=True)\n",
    "dfr"
   ]
  },
  {
   "cell_type": "code",
   "execution_count": 9,
   "id": "74b396ff-7f9a-4bde-9d93-19dd79e14ae9",
   "metadata": {},
   "outputs": [
    {
     "name": "stdout",
     "output_type": "stream",
     "text": [
      "['Subject', 'Seizure', 'OnsetClonic', 'GTCS', 'Discard']\n"
     ]
    }
   ],
   "source": [
    "print(list(df1.columns))"
   ]
  },
  {
   "cell_type": "code",
   "execution_count": 10,
   "id": "557f3ba1-0eff-4fa5-9d3d-e02921d7cb28",
   "metadata": {},
   "outputs": [
    {
     "name": "stdout",
     "output_type": "stream",
     "text": [
      "Subject          int64\n",
      "Seizure          int64\n",
      "OnsetClonic    float64\n",
      "GTCS             int32\n",
      "Discard         object\n",
      "dtype: object\n"
     ]
    }
   ],
   "source": [
    "print(df1.dtypes) # let's see all the columns' data types now"
   ]
  },
  {
   "cell_type": "code",
   "execution_count": 11,
   "id": "5ead1aaf-99c6-4be6-a415-038115060564",
   "metadata": {},
   "outputs": [
    {
     "name": "stdout",
     "output_type": "stream",
     "text": [
      "[1 0]\n"
     ]
    }
   ],
   "source": [
    "classes = df1['GTCS'].unique()\n",
    "print(classes)"
   ]
  },
  {
   "cell_type": "code",
   "execution_count": 12,
   "id": "524f132c-be6f-4ddc-9980-834bf8c5605b",
   "metadata": {},
   "outputs": [],
   "source": [
    "y = df1['GTCS'].values"
   ]
  },
  {
   "cell_type": "code",
   "execution_count": 13,
   "id": "f00df6dc-8a4f-4ce2-a5a6-eba69760b48d",
   "metadata": {},
   "outputs": [
    {
     "data": {
      "text/plain": [
       "array([1, 0, 1, 1, 1, 1, 1, 1, 0, 0, 0, 0, 0, 0, 0, 0, 0, 1, 0, 1, 1, 1,\n",
       "       1, 1, 0, 0, 0, 1, 1, 1, 1, 1, 1, 1, 1, 0, 0, 0, 1, 0, 0, 1, 1, 0,\n",
       "       0, 0, 1, 1, 1, 1, 1, 0, 1, 0, 0, 0, 0, 0, 0, 0, 1, 0, 0, 0, 0, 1,\n",
       "       1, 0, 0, 0, 0, 0, 1, 0, 1, 0, 0, 1, 1, 0, 1, 0, 0, 1, 0, 1, 0, 0,\n",
       "       0, 0, 0, 0, 0, 0, 1, 0, 0, 0, 0, 0, 1, 0, 0, 0, 0, 0, 0, 0, 0, 0,\n",
       "       1, 1, 0, 1, 0, 0, 0, 1, 0, 0, 0, 0, 1, 0, 0, 0, 1, 0, 0, 0, 1, 0,\n",
       "       1, 0, 0, 0, 1, 0, 1, 0, 1, 0, 0, 0, 0, 0, 0, 0, 1, 0, 0, 1, 0, 0,\n",
       "       0, 0, 0, 0, 0, 1, 0, 0, 0, 0, 0, 0, 0, 1, 1, 0, 0, 0, 1, 0, 0, 0,\n",
       "       0, 0, 1, 1, 0, 0, 0, 0, 0, 1, 1, 0, 0, 0, 1, 1, 1, 0, 0, 0, 0, 1,\n",
       "       1, 1, 1, 1, 0, 0, 0, 0, 0, 0, 0, 0, 0, 0, 0, 0, 0, 0, 0, 0, 1, 0])"
      ]
     },
     "execution_count": 13,
     "metadata": {},
     "output_type": "execute_result"
    }
   ],
   "source": [
    "y"
   ]
  },
  {
   "cell_type": "code",
   "execution_count": 14,
   "id": "f79f07c9-15ed-4f75-9d77-997341c78eae",
   "metadata": {},
   "outputs": [
    {
     "data": {
      "text/plain": [
       "220"
      ]
     },
     "execution_count": 14,
     "metadata": {},
     "output_type": "execute_result"
    }
   ],
   "source": [
    "y.size"
   ]
  },
  {
   "cell_type": "code",
   "execution_count": 15,
   "id": "3eb27fef-0ab9-4c56-8bf2-128d7ee233f7",
   "metadata": {},
   "outputs": [],
   "source": [
    "#Delete what's missing in accordance of our feature dataset and use np.repeat to duplicate\n",
    "y.item(11)\n",
    "y = np.delete(y, [11, 66, 195])"
   ]
  },
  {
   "cell_type": "code",
   "execution_count": 16,
   "id": "4bf0e3ef-abcf-4e4c-8004-66f8190e0fc7",
   "metadata": {},
   "outputs": [
    {
     "data": {
      "text/plain": [
       "array([1, 0, 1, 1, 1, 1, 1, 1, 0, 0, 0, 0, 0, 0, 0, 0, 1, 0, 1, 1, 1, 1,\n",
       "       1, 0, 0, 0, 1, 1, 1, 1, 1, 1, 1, 1, 0, 0, 0, 1, 0, 0, 1, 1, 0, 0,\n",
       "       0, 1, 1, 1, 1, 1, 0, 1, 0, 0, 0, 0, 0, 0, 0, 1, 0, 0, 0, 0, 1, 0,\n",
       "       0, 0, 0, 0, 1, 0, 1, 0, 0, 1, 1, 0, 1, 0, 0, 1, 0, 1, 0, 0, 0, 0,\n",
       "       0, 0, 0, 0, 1, 0, 0, 0, 0, 0, 1, 0, 0, 0, 0, 0, 0, 0, 0, 0, 1, 1,\n",
       "       0, 1, 0, 0, 0, 1, 0, 0, 0, 0, 1, 0, 0, 0, 1, 0, 0, 0, 1, 0, 1, 0,\n",
       "       0, 0, 1, 0, 1, 0, 1, 0, 0, 0, 0, 0, 0, 0, 1, 0, 0, 1, 0, 0, 0, 0,\n",
       "       0, 0, 0, 1, 0, 0, 0, 0, 0, 0, 0, 1, 1, 0, 0, 0, 1, 0, 0, 0, 0, 0,\n",
       "       1, 1, 0, 0, 0, 0, 0, 1, 1, 0, 0, 0, 1, 1, 1, 0, 0, 0, 1, 1, 1, 1,\n",
       "       1, 0, 0, 0, 0, 0, 0, 0, 0, 0, 0, 0, 0, 0, 0, 0, 0, 1, 0])"
      ]
     },
     "execution_count": 16,
     "metadata": {},
     "output_type": "execute_result"
    }
   ],
   "source": [
    "y"
   ]
  },
  {
   "cell_type": "code",
   "execution_count": 17,
   "id": "43c4aae7-478f-4e35-9744-5f26c6f68909",
   "metadata": {},
   "outputs": [
    {
     "data": {
      "text/plain": [
       "217"
      ]
     },
     "execution_count": 17,
     "metadata": {},
     "output_type": "execute_result"
    }
   ],
   "source": [
    "y.size"
   ]
  },
  {
   "cell_type": "code",
   "execution_count": 18,
   "id": "9147e16b-ace9-4012-a7ca-fad6318bbd86",
   "metadata": {},
   "outputs": [
    {
     "data": {
      "text/plain": [
       "array([1, 1, 0, 0, 1, 1, 1, 1, 1, 1, 1, 1, 1, 1, 1, 1, 0, 0, 0, 0, 0, 0,\n",
       "       0, 0, 0, 0, 0, 0, 0, 0, 0, 0, 1, 1, 0, 0, 1, 1, 1, 1, 1, 1, 1, 1,\n",
       "       1, 1, 0, 0, 0, 0, 0, 0, 1, 1, 1, 1, 1, 1, 1, 1, 1, 1, 1, 1, 1, 1,\n",
       "       1, 1, 0, 0, 0, 0, 0, 0, 1, 1, 0, 0, 0, 0, 1, 1, 1, 1, 0, 0, 0, 0,\n",
       "       0, 0, 1, 1, 1, 1, 1, 1, 1, 1, 1, 1, 0, 0, 1, 1, 0, 0, 0, 0, 0, 0,\n",
       "       0, 0, 0, 0, 0, 0, 0, 0, 1, 1, 0, 0, 0, 0, 0, 0, 0, 0, 1, 1, 0, 0,\n",
       "       0, 0, 0, 0, 0, 0, 0, 0, 1, 1, 0, 0, 1, 1, 0, 0, 0, 0, 1, 1, 1, 1,\n",
       "       0, 0, 1, 1, 0, 0, 0, 0, 1, 1, 0, 0, 1, 1, 0, 0, 0, 0, 0, 0, 0, 0,\n",
       "       0, 0, 0, 0, 0, 0, 0, 0, 1, 1, 0, 0, 0, 0, 0, 0, 0, 0, 0, 0, 1, 1,\n",
       "       0, 0, 0, 0, 0, 0, 0, 0, 0, 0, 0, 0, 0, 0, 0, 0, 0, 0, 1, 1, 1, 1,\n",
       "       0, 0, 1, 1, 0, 0, 0, 0, 0, 0, 1, 1, 0, 0, 0, 0, 0, 0, 0, 0, 1, 1,\n",
       "       0, 0, 0, 0, 0, 0, 1, 1, 0, 0, 0, 0, 0, 0, 1, 1, 0, 0, 1, 1, 0, 0,\n",
       "       0, 0, 0, 0, 1, 1, 0, 0, 1, 1, 0, 0, 1, 1, 0, 0, 0, 0, 0, 0, 0, 0,\n",
       "       0, 0, 0, 0, 0, 0, 1, 1, 0, 0, 0, 0, 1, 1, 0, 0, 0, 0, 0, 0, 0, 0,\n",
       "       0, 0, 0, 0, 0, 0, 1, 1, 0, 0, 0, 0, 0, 0, 0, 0, 0, 0, 0, 0, 0, 0,\n",
       "       1, 1, 1, 1, 0, 0, 0, 0, 0, 0, 1, 1, 0, 0, 0, 0, 0, 0, 0, 0, 0, 0,\n",
       "       1, 1, 1, 1, 0, 0, 0, 0, 0, 0, 0, 0, 0, 0, 1, 1, 1, 1, 0, 0, 0, 0,\n",
       "       0, 0, 1, 1, 1, 1, 1, 1, 0, 0, 0, 0, 0, 0, 1, 1, 1, 1, 1, 1, 1, 1,\n",
       "       1, 1, 0, 0, 0, 0, 0, 0, 0, 0, 0, 0, 0, 0, 0, 0, 0, 0, 0, 0, 0, 0,\n",
       "       0, 0, 0, 0, 0, 0, 0, 0, 0, 0, 0, 0, 1, 1, 0, 0])"
      ]
     },
     "execution_count": 18,
     "metadata": {},
     "output_type": "execute_result"
    }
   ],
   "source": [
    "y = np.repeat(y, 2)\n",
    "y"
   ]
  },
  {
   "cell_type": "code",
   "execution_count": 19,
   "id": "04272b7a-0c8b-4d1b-b08c-c541e43fbd5b",
   "metadata": {},
   "outputs": [
    {
     "data": {
      "text/plain": [
       "434"
      ]
     },
     "execution_count": 19,
     "metadata": {},
     "output_type": "execute_result"
    }
   ],
   "source": [
    "y.size"
   ]
  },
  {
   "cell_type": "code",
   "execution_count": 20,
   "id": "4412d8cd-b695-42c4-8869-239c98dbb779",
   "metadata": {},
   "outputs": [
    {
     "name": "stdout",
     "output_type": "stream",
     "text": [
      "(434, 512)\n",
      "[[0.48304136 1.10189844 1.07579724 ... 0.18435701 0.09290289 0.18385619]\n",
      " [0.83579721 1.32052517 0.82916049 ... 0.50660639 0.27045454 0.0992175 ]\n",
      " [0.42507282 1.01574612 0.6624678  ... 0.13797588 0.07616863 0.1767677 ]\n",
      " ...\n",
      " [0.60668635 1.60228977 0.30032552 ... 0.32362048 0.17916517 0.61367639]\n",
      " [1.08576599 0.59754669 0.37895573 ... 0.02069822 0.0974206  0.5630052 ]\n",
      " [0.37964468 1.39534089 0.16932022 ... 0.64082903 0.09500065 0.08370053]]\n"
     ]
    }
   ],
   "source": [
    "data = r\"mba/\"\n",
    "X = np.array([np.load(data+arr) for arr in os.listdir(data)])\n",
    "print(X.shape)\n",
    "print(X)"
   ]
  },
  {
   "cell_type": "code",
   "execution_count": 21,
   "id": "0f69ff70-a091-4df2-9f5e-68a07bb480e2",
   "metadata": {},
   "outputs": [],
   "source": [
    "# Split the data into training and test sets\n",
    "X_train, X_test, y_train, y_test = train_test_split(X, y, test_size=0.2)"
   ]
  },
  {
   "cell_type": "code",
   "execution_count": 22,
   "id": "12c0556e-fb0f-423d-bb1a-129e60ce1f27",
   "metadata": {},
   "outputs": [],
   "source": [
    "X_train1, X_test1, y_train1, y_test1 = train_test_split(X, y, test_size=0.3)"
   ]
  },
  {
   "cell_type": "code",
   "execution_count": 23,
   "id": "ea913058-95e0-409a-8566-b13ad0c9e6f5",
   "metadata": {},
   "outputs": [],
   "source": [
    "# Scale the features using StandardScaler\n",
    "scaler = StandardScaler()\n",
    "X_train = scaler.fit_transform(X_train)\n",
    "X_test = scaler.transform(X_test)"
   ]
  },
  {
   "cell_type": "markdown",
   "id": "307a30ca-0885-4d10-b7c6-589ffc922706",
   "metadata": {},
   "source": [
    "<div style=\"text-align: left\"> <h3>I set classifiers that I will use, their optimized versions of course.</h3></div>"
   ]
  },
  {
   "cell_type": "code",
   "execution_count": 24,
   "id": "789e0ccd-13ad-4ce2-8b4c-e4a13ddb9bcc",
   "metadata": {},
   "outputs": [],
   "source": [
    "#some tries for classification report displays\n",
    "labels = np.arange(2)\n",
    "target_names = list(\"01\")"
   ]
  },
  {
   "cell_type": "markdown",
   "id": "a35e2b96-caa2-497c-bab1-a00895575216",
   "metadata": {},
   "source": [
    "# Cross Validation Procedure\n",
    "### 10-fold Cross Validation vs Stratified K-fold Cross Validation"
   ]
  },
  {
   "cell_type": "code",
   "execution_count": 25,
   "id": "4f2c3b70-f11a-4474-899a-28451c977c26",
   "metadata": {},
   "outputs": [],
   "source": [
    "# prepare the cross-validation procedure\n",
    "cv = KFold(n_splits=10, random_state=1, shuffle=True)"
   ]
  },
  {
   "cell_type": "code",
   "execution_count": 26,
   "id": "d72d1e49-d540-48e2-86f4-f77ce8f100d0",
   "metadata": {},
   "outputs": [],
   "source": [
    "#stratified k fold cv\n",
    "skf = StratifiedKFold(n_splits=2)"
   ]
  },
  {
   "cell_type": "markdown",
   "id": "ef778f35-1b7b-465d-8db7-e29fd3c06a03",
   "metadata": {},
   "source": [
    "# 1. KNN Classifier"
   ]
  },
  {
   "cell_type": "markdown",
   "id": "ab79809d-62b6-49b5-9374-398f6e81afcc",
   "metadata": {},
   "source": [
    "## Best k number of neighbors classifier with both splits"
   ]
  },
  {
   "cell_type": "code",
   "execution_count": 27,
   "id": "a40f903c-9ffd-4172-bd5f-fba48e046e6f",
   "metadata": {},
   "outputs": [],
   "source": [
    "k_values = [i for i in range (1,30)]\n",
    "scores = []\n",
    "\n",
    "scaler = StandardScaler()\n",
    "X = scaler.fit_transform(X)\n",
    "\n",
    "for k in k_values:\n",
    "    knn = KNeighborsClassifier(n_neighbors=k)\n",
    "    score = cross_val_score(knn, X, y, cv=5)\n",
    "    scores.append(np.mean(score))"
   ]
  },
  {
   "cell_type": "code",
   "execution_count": 28,
   "id": "9b932feb-75d1-4e32-8c06-63c814b48245",
   "metadata": {},
   "outputs": [
    {
     "data": {
      "text/plain": [
       "Text(0, 0.5, 'Accuracy Score')"
      ]
     },
     "execution_count": 28,
     "metadata": {},
     "output_type": "execute_result"
    },
    {
     "data": {
      "image/png": "[encoded data removed]",
      "text/plain": [
       "<Figure size 432x288 with 1 Axes>"
      ]
     },
     "metadata": {
      "needs_background": "light"
     },
     "output_type": "display_data"
    }
   ],
   "source": [
    "sns.lineplot(x = k_values, y = scores, marker = 'o')\n",
    "plt.xlabel(\"K Values\")\n",
    "plt.ylabel(\"Accuracy Score\")"
   ]
  },
  {
   "cell_type": "code",
   "execution_count": 29,
   "id": "06a0b573-26e3-471c-a847-c5d3068aa9cd",
   "metadata": {},
   "outputs": [
    {
     "data": {
      "text/plain": [
       "KNeighborsClassifier(n_neighbors=8)"
      ]
     },
     "execution_count": 29,
     "metadata": {},
     "output_type": "execute_result"
    }
   ],
   "source": [
    "best_index = np.argmax(scores)\n",
    "best_k = k_values[best_index]\n",
    "\n",
    "bestk_knn = KNeighborsClassifier(n_neighbors=best_k)\n",
    "bestk_knn.fit(X_train, y_train)"
   ]
  },
  {
   "cell_type": "code",
   "execution_count": 30,
   "id": "0c78455d-df4a-4133-aa5c-e877c3a1fe28",
   "metadata": {},
   "outputs": [
    {
     "name": "stdout",
     "output_type": "stream",
     "text": [
      "Accuracy: 0.7126436781609196\n",
      "Precision: 0.5384615384615384\n",
      "Recall: 0.75\n"
     ]
    }
   ],
   "source": [
    "y_pred4 = bestk_knn.predict(X_test)\n",
    "\n",
    "accuracy = accuracy_score(y_test, y_pred4)\n",
    "precision = precision_score(y_test, y_pred4)\n",
    "recall = recall_score(y_test, y_pred4)\n",
    "\n",
    "print(\"Accuracy:\", accuracy)\n",
    "print(\"Precision:\", precision)\n",
    "print(\"Recall:\", recall)"
   ]
  },
  {
   "cell_type": "code",
   "execution_count": 31,
   "id": "a0dd9800-b2a9-48ae-8c5d-86ffac389e84",
   "metadata": {},
   "outputs": [
    {
     "name": "stdout",
     "output_type": "stream",
     "text": [
      "Confusion Matrix:\n",
      "[[41 18]\n",
      " [ 7 21]]\n",
      "Classification Report:\n",
      "{'0': {'precision': 0.8541666666666666, 'recall': 0.6949152542372882, 'f1-score': 0.7663551401869159, 'support': 59}, '1': {'precision': 0.5384615384615384, 'recall': 0.75, 'f1-score': 0.6268656716417911, 'support': 28}, 'accuracy': 0.7126436781609196, 'macro avg': {'precision': 0.6963141025641025, 'recall': 0.722457627118644, 'f1-score': 0.6966104059143534, 'support': 87}, 'weighted avg': {'precision': 0.7525604185086944, 'recall': 0.7126436781609196, 'f1-score': 0.7214619778965309, 'support': 87}}\n"
     ]
    },
    {
     "data": {
      "text/plain": [
       "<AxesSubplot:>"
      ]
     },
     "execution_count": 31,
     "metadata": {},
     "output_type": "execute_result"
    },
    {
     "data": {
      "image/png": "[encoded data removed]",
      "text/plain": [
       "<Figure size 432x288 with 2 Axes>"
      ]
     },
     "metadata": {
      "needs_background": "light"
     },
     "output_type": "display_data"
    }
   ],
   "source": [
    "result = confusion_matrix(y_test, y_pred4)\n",
    "print(\"Confusion Matrix:\")\n",
    "print(result)\n",
    "result1 = classification_report(y_test, y_pred4, labels=labels, target_names=target_names, output_dict=True)\n",
    "print(\"Classification Report:\")\n",
    "print (result1)\n",
    "# .iloc[:-1, :] to exclude support\n",
    "sns.heatmap(pd.DataFrame(result1).iloc[:-1, :].T, annot=True)"
   ]
  },
  {
   "cell_type": "code",
   "execution_count": 32,
   "id": "983ff952-0f35-4dd2-a8b2-753dc3ca5502",
   "metadata": {},
   "outputs": [
    {
     "data": {
      "image/png": "[encoded data removed]",
      "text/plain": [
       "<Figure size 432x288 with 2 Axes>"
      ]
     },
     "metadata": {
      "needs_background": "light"
     },
     "output_type": "display_data"
    }
   ],
   "source": [
    "cm_display = metrics.ConfusionMatrixDisplay(result, display_labels = [False, True])\n",
    "cm_display.plot()\n",
    "plt.show()"
   ]
  },
  {
   "cell_type": "code",
   "execution_count": 33,
   "id": "db846221-767b-4d4c-9794-1a92dd983951",
   "metadata": {},
   "outputs": [
    {
     "data": {
      "text/plain": [
       "0.7126436781609196"
      ]
     },
     "execution_count": 33,
     "metadata": {},
     "output_type": "execute_result"
    }
   ],
   "source": [
    "bestk_knn.score(X_test,y_test) #mean accuracy on the given test data and labels"
   ]
  },
  {
   "cell_type": "code",
   "execution_count": 34,
   "id": "dab214b4-4973-469b-9832-4c2ae6187a4a",
   "metadata": {},
   "outputs": [
    {
     "name": "stdout",
     "output_type": "stream",
     "text": [
      "Accuracy: 0.642 (0.111)\n"
     ]
    }
   ],
   "source": [
    "#Cross validation \n",
    "# evaluate model\n",
    "scores = cross_val_score(bestk_knn, X_test, y_test, scoring='accuracy', cv=cv, n_jobs=-1)\n",
    "# report performance\n",
    "print('Accuracy: %.3f (%.3f)' % (mean(scores), std(scores)))"
   ]
  },
  {
   "cell_type": "code",
   "execution_count": 35,
   "id": "6eb193da-9757-4d27-bfc5-93042aaa5165",
   "metadata": {},
   "outputs": [
    {
     "name": "stdout",
     "output_type": "stream",
     "text": [
      "Accuracy: 0.610 (0.110)\n"
     ]
    }
   ],
   "source": [
    "#Cross validation \n",
    "# evaluate model\n",
    "scores = cross_val_score(bestk_knn, X_test, y_test, scoring='accuracy', cv=skf, n_jobs=-1)\n",
    "# report performance\n",
    "print('Accuracy: %.3f (%.3f)' % (mean(scores), std(scores)))"
   ]
  },
  {
   "cell_type": "markdown",
   "id": "b764bd1b-b06c-4232-8b09-fb4299ca19eb",
   "metadata": {},
   "source": [
    "# 2. Logistic Regression"
   ]
  },
  {
   "cell_type": "code",
   "execution_count": 36,
   "id": "a03a2108-bef3-416f-be29-d5a470380a9a",
   "metadata": {},
   "outputs": [],
   "source": [
    "pipeline = make_pipeline(LogisticRegression(solver='lbfgs', penalty='l2', max_iter=10000, random_state=1))\n",
    "pipeline.fit(X_train, y_train)\n",
    "y_pred10 = pipeline.predict(X_test)"
   ]
  },
  {
   "cell_type": "code",
   "execution_count": 37,
   "id": "4c75e004-b6b3-4124-a586-ed852bc5b79b",
   "metadata": {},
   "outputs": [
    {
     "name": "stdout",
     "output_type": "stream",
     "text": [
      "Accuracy: 0.7931034482758621\n"
     ]
    }
   ],
   "source": [
    "accuracy = accuracy_score(y_test, y_pred10)\n",
    "print(\"Accuracy:\", accuracy)"
   ]
  },
  {
   "cell_type": "code",
   "execution_count": 38,
   "id": "2a77f37e-fe65-45ac-a9a9-a61a5a36edef",
   "metadata": {},
   "outputs": [
    {
     "name": "stdout",
     "output_type": "stream",
     "text": [
      "Confusion Matrix:\n",
      "[[50  9]\n",
      " [ 9 19]]\n",
      "Classification Report:\n",
      "{'0': {'precision': 0.847457627118644, 'recall': 0.847457627118644, 'f1-score': 0.847457627118644, 'support': 59}, '1': {'precision': 0.6785714285714286, 'recall': 0.6785714285714286, 'f1-score': 0.6785714285714286, 'support': 28}, 'accuracy': 0.7931034482758621, 'macro avg': {'precision': 0.7630145278450363, 'recall': 0.7630145278450363, 'f1-score': 0.7630145278450363, 'support': 87}, 'weighted avg': {'precision': 0.7931034482758621, 'recall': 0.7931034482758621, 'f1-score': 0.7931034482758621, 'support': 87}}\n"
     ]
    },
    {
     "data": {
      "text/plain": [
       "<AxesSubplot:>"
      ]
     },
     "execution_count": 38,
     "metadata": {},
     "output_type": "execute_result"
    },
    {
     "data": {
      "image/png": "[encoded data removed]",
      "text/plain": [
       "<Figure size 432x288 with 2 Axes>"
      ]
     },
     "metadata": {
      "needs_background": "light"
     },
     "output_type": "display_data"
    }
   ],
   "source": [
    "result = confusion_matrix(y_test, y_pred10)\n",
    "print(\"Confusion Matrix:\")\n",
    "print(result)\n",
    "result1 = classification_report(y_test, y_pred10, labels=labels, target_names=target_names, output_dict=True)\n",
    "print(\"Classification Report:\")\n",
    "print (result1)\n",
    "sns.heatmap(pd.DataFrame(result1).iloc[:-1, :].T, annot=True)"
   ]
  },
  {
   "cell_type": "code",
   "execution_count": 39,
   "id": "e360e503-7721-48d7-ac65-7989f1366493",
   "metadata": {},
   "outputs": [
    {
     "data": {
      "image/png": "[encoded data removed]",
      "text/plain": [
       "<Figure size 432x288 with 2 Axes>"
      ]
     },
     "metadata": {
      "needs_background": "light"
     },
     "output_type": "display_data"
    }
   ],
   "source": [
    "cm_display = metrics.ConfusionMatrixDisplay(result, display_labels = [False, True])\n",
    "cm_display.plot()\n",
    "plt.show()"
   ]
  },
  {
   "cell_type": "code",
   "execution_count": 40,
   "id": "9c2d551c-387d-4f3b-9a54-fe27d265048b",
   "metadata": {},
   "outputs": [
    {
     "name": "stdout",
     "output_type": "stream",
     "text": [
      "Accuracy: 0.676 (0.092)\n"
     ]
    }
   ],
   "source": [
    "#Cross validation \n",
    "# evaluate model\n",
    "scores = cross_val_score(pipeline, X_test, y_test, scoring='accuracy', cv=cv, n_jobs=-1)\n",
    "# report performance\n",
    "print('Accuracy: %.3f (%.3f)' % (mean(scores), std(scores)))"
   ]
  },
  {
   "cell_type": "code",
   "execution_count": 41,
   "id": "8aa5c004-6f27-410e-bb06-3934869db28c",
   "metadata": {},
   "outputs": [
    {
     "name": "stdout",
     "output_type": "stream",
     "text": [
      "Accuracy: 0.678 (0.019)\n"
     ]
    }
   ],
   "source": [
    "# Stratified Cross validation \n",
    "# evaluate model\n",
    "scores = cross_val_score(pipeline, X_test, y_test, scoring='accuracy', cv=skf, n_jobs=-1)\n",
    "# report performance\n",
    "print('Accuracy: %.3f (%.3f)' % (mean(scores), std(scores)))"
   ]
  },
  {
   "cell_type": "markdown",
   "id": "5286da7f-4832-433a-9869-4c90de7a1f75",
   "metadata": {},
   "source": [
    "# 3. Desicion Tree "
   ]
  },
  {
   "cell_type": "code",
   "execution_count": 42,
   "id": "28092f73-f18a-4048-982a-5317433fc059",
   "metadata": {},
   "outputs": [],
   "source": [
    "dtc = DecisionTreeClassifier(criterion=\"entropy\", max_depth=3) #optimizing\n",
    "dtc.fit(X_train, y_train)\n",
    "y_pred6 = dtc.predict(X_test)"
   ]
  },
  {
   "cell_type": "code",
   "execution_count": 43,
   "id": "bb0e44e4-03d7-47c0-aa21-fe931a21dc4b",
   "metadata": {},
   "outputs": [
    {
     "name": "stdout",
     "output_type": "stream",
     "text": [
      "Accuracy: 0.735632183908046\n"
     ]
    }
   ],
   "source": [
    "accuracy = accuracy_score(y_test, y_pred6)\n",
    "print(\"Accuracy:\", accuracy)"
   ]
  },
  {
   "cell_type": "code",
   "execution_count": 44,
   "id": "4fba805e-1893-47cf-b9d5-9641ee3b9543",
   "metadata": {},
   "outputs": [
    {
     "name": "stdout",
     "output_type": "stream",
     "text": [
      "Confusion Matrix:\n",
      "[[43 16]\n",
      " [ 7 21]]\n",
      "Classification Report:\n",
      "{'0': {'precision': 0.86, 'recall': 0.7288135593220338, 'f1-score': 0.7889908256880733, 'support': 59}, '1': {'precision': 0.5675675675675675, 'recall': 0.75, 'f1-score': 0.6461538461538462, 'support': 28}, 'accuracy': 0.735632183908046, 'macro avg': {'precision': 0.7137837837837837, 'recall': 0.7394067796610169, 'f1-score': 0.7175723359209598, 'support': 87}, 'weighted avg': {'precision': 0.7658838148493321, 'recall': 0.735632183908046, 'f1-score': 0.7430203035391266, 'support': 87}}\n"
     ]
    },
    {
     "data": {
      "text/plain": [
       "<AxesSubplot:>"
      ]
     },
     "execution_count": 44,
     "metadata": {},
     "output_type": "execute_result"
    },
    {
     "data": {
      "image/png": "[encoded data removed]",
      "text/plain": [
       "<Figure size 432x288 with 2 Axes>"
      ]
     },
     "metadata": {
      "needs_background": "light"
     },
     "output_type": "display_data"
    }
   ],
   "source": [
    "result = confusion_matrix(y_test, y_pred6)\n",
    "print(\"Confusion Matrix:\")\n",
    "print(result)\n",
    "result1 = classification_report(y_test, y_pred6, labels=labels, target_names=target_names, output_dict=True)\n",
    "print(\"Classification Report:\")\n",
    "print (result1)\n",
    "sns.heatmap(pd.DataFrame(result1).iloc[:-1, :].T, annot=True)"
   ]
  },
  {
   "cell_type": "code",
   "execution_count": 45,
   "id": "c70399a2-378c-45bd-9b98-fffea350901d",
   "metadata": {},
   "outputs": [
    {
     "data": {
      "image/png": "[encoded data removed]",
      "text/plain": [
       "<Figure size 432x288 with 2 Axes>"
      ]
     },
     "metadata": {
      "needs_background": "light"
     },
     "output_type": "display_data"
    }
   ],
   "source": [
    "cm_display = metrics.ConfusionMatrixDisplay(result, display_labels = [False, True])\n",
    "cm_display.plot()\n",
    "plt.show()"
   ]
  },
  {
   "cell_type": "code",
   "execution_count": 46,
   "id": "f533413c-a1f2-4b8a-8073-cd4872563a7d",
   "metadata": {},
   "outputs": [
    {
     "name": "stdout",
     "output_type": "stream",
     "text": [
      "Accuracy: 0.676 (0.131)\n"
     ]
    }
   ],
   "source": [
    "#Cross validation \n",
    "# evaluate model\n",
    "scores = cross_val_score(dtc, X_test, y_test, scoring='accuracy', cv=cv, n_jobs=-1)\n",
    "# report performance\n",
    "print('Accuracy: %.3f (%.3f)' % (mean(scores), std(scores)))"
   ]
  },
  {
   "cell_type": "code",
   "execution_count": 47,
   "id": "f82b3867-b79e-4978-a59b-d9fb520aed4d",
   "metadata": {},
   "outputs": [
    {
     "name": "stdout",
     "output_type": "stream",
     "text": [
      "Accuracy: 0.677 (0.073)\n"
     ]
    }
   ],
   "source": [
    "# Stratified Cross validation \n",
    "# evaluate model\n",
    "scores = cross_val_score(dtc, X_test, y_test, scoring='accuracy', cv=skf, n_jobs=-1)\n",
    "# report performance\n",
    "print('Accuracy: %.3f (%.3f)' % (mean(scores), std(scores)))"
   ]
  },
  {
   "cell_type": "markdown",
   "id": "74c97447-b043-46d1-a612-e74d139a8e1c",
   "metadata": {},
   "source": [
    "# 4. Random Forest"
   ]
  },
  {
   "cell_type": "code",
   "execution_count": 48,
   "id": "ad101e7b-236b-47ce-af97-df883c869d7b",
   "metadata": {},
   "outputs": [],
   "source": [
    "rfc = RandomForestClassifier(random_state = 1, max_depth = 15, n_estimators = 500, min_samples_split = 2, min_samples_leaf = 1)\n",
    "rfc.fit(X_train, y_train)\n",
    "y_pred7 = rfc.predict(X_test)"
   ]
  },
  {
   "cell_type": "code",
   "execution_count": 49,
   "id": "531e816d-b68c-4f26-8e73-e047198f60e5",
   "metadata": {},
   "outputs": [
    {
     "name": "stdout",
     "output_type": "stream",
     "text": [
      "Accuracy: 0.8045977011494253\n"
     ]
    }
   ],
   "source": [
    "accuracy = accuracy_score(y_test, y_pred7)\n",
    "print(\"Accuracy:\", accuracy)"
   ]
  },
  {
   "cell_type": "code",
   "execution_count": 50,
   "id": "57de84df-5ca9-4c68-bd4f-89ff428b5daf",
   "metadata": {},
   "outputs": [
    {
     "name": "stdout",
     "output_type": "stream",
     "text": [
      "Confusion Matrix:\n",
      "[[54  5]\n",
      " [12 16]]\n",
      "Classification Report:\n",
      "{'0': {'precision': 0.8181818181818182, 'recall': 0.9152542372881356, 'f1-score': 0.8640000000000001, 'support': 59}, '1': {'precision': 0.7619047619047619, 'recall': 0.5714285714285714, 'f1-score': 0.6530612244897959, 'support': 28}, 'accuracy': 0.8045977011494253, 'macro avg': {'precision': 0.7900432900432901, 'recall': 0.7433414043583535, 'f1-score': 0.758530612244898, 'support': 87}, 'weighted avg': {'precision': 0.8000696621386277, 'recall': 0.8045977011494253, 'f1-score': 0.7961116584564861, 'support': 87}}\n"
     ]
    },
    {
     "data": {
      "text/plain": [
       "<AxesSubplot:>"
      ]
     },
     "execution_count": 50,
     "metadata": {},
     "output_type": "execute_result"
    },
    {
     "data": {
      "image/png": "[encoded data removed]",
      "text/plain": [
       "<Figure size 432x288 with 2 Axes>"
      ]
     },
     "metadata": {
      "needs_background": "light"
     },
     "output_type": "display_data"
    }
   ],
   "source": [
    "result = confusion_matrix(y_test, y_pred7)\n",
    "print(\"Confusion Matrix:\")\n",
    "print(result)\n",
    "result1 = classification_report(y_test, y_pred7, labels=labels, target_names=target_names, output_dict=True)\n",
    "print(\"Classification Report:\")\n",
    "print (result1)\n",
    "sns.heatmap(pd.DataFrame(result1).iloc[:-1, :].T, annot=True)"
   ]
  },
  {
   "cell_type": "code",
   "execution_count": 51,
   "id": "844b337d-8e29-4302-ab7d-2fcd0b86249f",
   "metadata": {},
   "outputs": [
    {
     "data": {
      "image/png": "[encoded data removed]",
      "text/plain": [
       "<Figure size 432x288 with 2 Axes>"
      ]
     },
     "metadata": {
      "needs_background": "light"
     },
     "output_type": "display_data"
    }
   ],
   "source": [
    "cm_display = metrics.ConfusionMatrixDisplay(result, display_labels = [False, True])\n",
    "cm_display.plot()\n",
    "plt.show()"
   ]
  },
  {
   "cell_type": "code",
   "execution_count": 52,
   "id": "23f5316d-2414-4566-998a-03172556dae4",
   "metadata": {},
   "outputs": [
    {
     "name": "stdout",
     "output_type": "stream",
     "text": [
      "Accuracy: 0.713 (0.174)\n"
     ]
    }
   ],
   "source": [
    "#Cross validation \n",
    "# evaluate model\n",
    "scores = cross_val_score(rfc, X_test, y_test, scoring='accuracy', cv=cv, n_jobs=-1)\n",
    "# report performance\n",
    "print('Accuracy: %.3f (%.3f)' % (mean(scores), std(scores)))"
   ]
  },
  {
   "cell_type": "code",
   "execution_count": 53,
   "id": "30056543-9d2f-44b0-93fa-4eb84e49abdc",
   "metadata": {},
   "outputs": [
    {
     "name": "stdout",
     "output_type": "stream",
     "text": [
      "Accuracy: 0.690 (0.008)\n"
     ]
    }
   ],
   "source": [
    "# Stratified Cross validation \n",
    "# evaluate model\n",
    "scores = cross_val_score(rfc, X_test, y_test, scoring='accuracy', cv=skf, n_jobs=-1)\n",
    "# report performance\n",
    "print('Accuracy: %.3f (%.3f)' % (mean(scores), std(scores)))"
   ]
  },
  {
   "cell_type": "markdown",
   "id": "011b231a-1a97-43c8-923f-ff5ba3f6a555",
   "metadata": {},
   "source": [
    "# 5. Support Vector Machine"
   ]
  },
  {
   "cell_type": "code",
   "execution_count": 54,
   "id": "5861368c-8847-4c61-9521-23ae2df7bfcb",
   "metadata": {},
   "outputs": [],
   "source": [
    "svc = SVC(kernel='linear', C=0.025)\n",
    "svc.fit(X_train, y_train)\n",
    "y_pred8 = svc.predict(X_test)"
   ]
  },
  {
   "cell_type": "code",
   "execution_count": 55,
   "id": "b653b4f2-3a96-417a-bf41-97569c75f769",
   "metadata": {},
   "outputs": [
    {
     "name": "stdout",
     "output_type": "stream",
     "text": [
      "Accuracy: 0.7816091954022989\n"
     ]
    }
   ],
   "source": [
    "accuracy = accuracy_score(y_test, y_pred8)\n",
    "print(\"Accuracy:\", accuracy)"
   ]
  },
  {
   "cell_type": "code",
   "execution_count": 56,
   "id": "74d0de27-2f71-4136-bb70-b465281f3102",
   "metadata": {},
   "outputs": [
    {
     "name": "stdout",
     "output_type": "stream",
     "text": [
      "Confusion Matrix:\n",
      "[[48 11]\n",
      " [ 8 20]]\n",
      "Classification Report:\n",
      "{'0': {'precision': 0.8571428571428571, 'recall': 0.8135593220338984, 'f1-score': 0.8347826086956522, 'support': 59}, '1': {'precision': 0.6451612903225806, 'recall': 0.7142857142857143, 'f1-score': 0.6779661016949152, 'support': 28}, 'accuracy': 0.7816091954022989, 'macro avg': {'precision': 0.7511520737327189, 'recall': 0.7639225181598064, 'f1-score': 0.7563743551952837, 'support': 87}, 'weighted avg': {'precision': 0.788918904602998, 'recall': 0.7816091954022989, 'f1-score': 0.784312928281622, 'support': 87}}\n"
     ]
    },
    {
     "data": {
      "text/plain": [
       "<AxesSubplot:>"
      ]
     },
     "execution_count": 56,
     "metadata": {},
     "output_type": "execute_result"
    },
    {
     "data": {
      "image/png": "[encoded data removed]",
      "text/plain": [
       "<Figure size 432x288 with 2 Axes>"
      ]
     },
     "metadata": {
      "needs_background": "light"
     },
     "output_type": "display_data"
    }
   ],
   "source": [
    "result = confusion_matrix(y_test, y_pred8)\n",
    "print(\"Confusion Matrix:\")\n",
    "print(result)\n",
    "result1 = classification_report(y_test, y_pred8, labels=labels, target_names=target_names, output_dict=True)\n",
    "print(\"Classification Report:\")\n",
    "print (result1)\n",
    "sns.heatmap(pd.DataFrame(result1).iloc[:-1, :].T, annot=True)"
   ]
  },
  {
   "cell_type": "code",
   "execution_count": 57,
   "id": "f1fe09d3-3243-41a7-bf78-ccc332be7307",
   "metadata": {},
   "outputs": [
    {
     "data": {
      "image/png": "[encoded data removed]",
      "text/plain": [
       "<Figure size 432x288 with 2 Axes>"
      ]
     },
     "metadata": {
      "needs_background": "light"
     },
     "output_type": "display_data"
    }
   ],
   "source": [
    "cm_display = metrics.ConfusionMatrixDisplay(result, display_labels = [False, True])\n",
    "cm_display.plot()\n",
    "plt.show()"
   ]
  },
  {
   "cell_type": "code",
   "execution_count": 58,
   "id": "459631c7-1a3b-407d-bc15-6f4428d5769b",
   "metadata": {},
   "outputs": [
    {
     "name": "stdout",
     "output_type": "stream",
     "text": [
      "Accuracy: 0.675 (0.114)\n"
     ]
    }
   ],
   "source": [
    "#Cross validation \n",
    "# evaluate model\n",
    "scores = cross_val_score(svc, X_test, y_test, scoring='accuracy', cv=cv, n_jobs=-1)\n",
    "# report performance\n",
    "print('Accuracy: %.3f (%.3f)' % (mean(scores), std(scores)))"
   ]
  },
  {
   "cell_type": "code",
   "execution_count": 59,
   "id": "64d280b8-a729-4443-96ae-7b2ecb6bfc4c",
   "metadata": {},
   "outputs": [
    {
     "name": "stdout",
     "output_type": "stream",
     "text": [
      "Accuracy: 0.678 (0.019)\n"
     ]
    }
   ],
   "source": [
    "# Stratified Cross validation \n",
    "# evaluate model\n",
    "scores = cross_val_score(svc, X_test, y_test, scoring='accuracy', cv=skf, n_jobs=-1)\n",
    "# report performance\n",
    "print('Accuracy: %.3f (%.3f)' % (mean(scores), std(scores)))"
   ]
  },
  {
   "cell_type": "markdown",
   "id": "19b86707-5064-474c-bcbf-5f06c31e8195",
   "metadata": {},
   "source": [
    "# 6. Naive Bayers"
   ]
  },
  {
   "cell_type": "code",
   "execution_count": 60,
   "id": "616c0bbe-85fd-4bc5-9709-7d90263fdb20",
   "metadata": {},
   "outputs": [],
   "source": [
    "gnb = GaussianNB(var_smoothing=2e-9)\n",
    "gnb.fit(X_train, y_train)\n",
    "y_pred9 = gnb.predict(X_test)"
   ]
  },
  {
   "cell_type": "code",
   "execution_count": 61,
   "id": "6724dd27-a960-497b-9c08-762e4f9941a8",
   "metadata": {},
   "outputs": [
    {
     "name": "stdout",
     "output_type": "stream",
     "text": [
      "Accuracy: 0.7126436781609196\n"
     ]
    }
   ],
   "source": [
    "accuracy = accuracy_score(y_test, y_pred9)\n",
    "print(\"Accuracy:\", accuracy)"
   ]
  },
  {
   "cell_type": "code",
   "execution_count": 62,
   "id": "2e708983-0c1c-4992-aba5-bc4b312f34bd",
   "metadata": {},
   "outputs": [
    {
     "name": "stdout",
     "output_type": "stream",
     "text": [
      "Confusion Matrix:\n",
      "[[40 19]\n",
      " [ 6 22]]\n",
      "Classification Report:\n",
      "{'0': {'precision': 0.8695652173913043, 'recall': 0.6779661016949152, 'f1-score': 0.7619047619047619, 'support': 59}, '1': {'precision': 0.5365853658536586, 'recall': 0.7857142857142857, 'f1-score': 0.6376811594202899, 'support': 28}, 'accuracy': 0.7126436781609196, 'macro avg': {'precision': 0.7030752916224814, 'recall': 0.7318401937046004, 'f1-score': 0.6997929606625259, 'support': 87}, 'weighted avg': {'precision': 0.7623992881607977, 'recall': 0.7126436781609196, 'f1-score': 0.7219247519097594, 'support': 87}}\n"
     ]
    },
    {
     "data": {
      "text/plain": [
       "<AxesSubplot:>"
      ]
     },
     "execution_count": 62,
     "metadata": {},
     "output_type": "execute_result"
    },
    {
     "data": {
      "image/png": "[encoded data removed]",
      "text/plain": [
       "<Figure size 432x288 with 2 Axes>"
      ]
     },
     "metadata": {
      "needs_background": "light"
     },
     "output_type": "display_data"
    }
   ],
   "source": [
    "result = confusion_matrix(y_test, y_pred9)\n",
    "print(\"Confusion Matrix:\")\n",
    "print(result)\n",
    "result1 = classification_report(y_test, y_pred9, labels=labels, target_names=target_names, output_dict=True)\n",
    "print(\"Classification Report:\")\n",
    "print (result1)\n",
    "sns.heatmap(pd.DataFrame(result1).iloc[:-1, :].T, annot=True)"
   ]
  },
  {
   "cell_type": "code",
   "execution_count": 63,
   "id": "01eb4158-1723-41b8-b9c7-3fe22f4f7954",
   "metadata": {},
   "outputs": [
    {
     "data": {
      "image/png": "[encoded data removed]",
      "text/plain": [
       "<Figure size 432x288 with 2 Axes>"
      ]
     },
     "metadata": {
      "needs_background": "light"
     },
     "output_type": "display_data"
    }
   ],
   "source": [
    "cm_display = metrics.ConfusionMatrixDisplay(result, display_labels = [False, True])\n",
    "cm_display.plot()\n",
    "plt.show()"
   ]
  },
  {
   "cell_type": "code",
   "execution_count": 64,
   "id": "4ced95ea-5b6f-4369-8322-39a5c6202a16",
   "metadata": {},
   "outputs": [
    {
     "name": "stdout",
     "output_type": "stream",
     "text": [
      "Accuracy: 0.736 (0.123)\n"
     ]
    }
   ],
   "source": [
    "#Cross validation \n",
    "# evaluate model\n",
    "scores = cross_val_score(gnb, X_test, y_test, scoring='accuracy', cv=cv, n_jobs=-1)\n",
    "# report performance\n",
    "print('Accuracy: %.3f (%.3f)' % (mean(scores), std(scores)))"
   ]
  },
  {
   "cell_type": "code",
   "execution_count": 65,
   "id": "bfbb8ef1-e54e-4c1e-93b9-a09b54142ecb",
   "metadata": {},
   "outputs": [
    {
     "name": "stdout",
     "output_type": "stream",
     "text": [
      "Accuracy: 0.713 (0.031)\n"
     ]
    }
   ],
   "source": [
    "# Stratified Cross validation \n",
    "# evaluate model\n",
    "scores = cross_val_score(gnb, X_test, y_test, scoring='accuracy', cv=skf, n_jobs=-1)\n",
    "# report performance\n",
    "print('Accuracy: %.3f (%.3f)' % (mean(scores), std(scores)))"
   ]
  },
  {
   "cell_type": "markdown",
   "id": "dac8fabb-9ba3-4109-87f8-14cf780de4b3",
   "metadata": {},
   "source": [
    "### The following algorithms are used for binary classification specifically and from the same module (ensemble) that our most effective algorithm Random Forest is. "
   ]
  },
  {
   "cell_type": "markdown",
   "id": "bf192b9c-b285-4af5-bba0-3452db076bc2",
   "metadata": {},
   "source": [
    "# 7. Gradient Boosting Classifier"
   ]
  },
  {
   "cell_type": "code",
   "execution_count": 66,
   "id": "498725ed-8be2-4d60-97dc-583271b53b0d",
   "metadata": {},
   "outputs": [
    {
     "name": "stdout",
     "output_type": "stream",
     "text": [
      "Accuracy: 0.8390804597701149\n"
     ]
    }
   ],
   "source": [
    "clf = GradientBoostingClassifier(n_estimators=100, learning_rate=1.0, max_depth=1, random_state=0).fit(X_train, y_train)\n",
    "y_pred11 = clf.predict(X_test)\n",
    "accuracy = accuracy_score(y_test, y_pred11)\n",
    "print(\"Accuracy:\", accuracy)"
   ]
  },
  {
   "cell_type": "code",
   "execution_count": 67,
   "id": "29feac3b-e6e1-4043-ae9a-aecd05c2a0c8",
   "metadata": {},
   "outputs": [
    {
     "name": "stdout",
     "output_type": "stream",
     "text": [
      "Confusion Matrix:\n",
      "[[51  8]\n",
      " [ 6 22]]\n",
      "Classification Report:\n",
      "{'0': {'precision': 0.8947368421052632, 'recall': 0.864406779661017, 'f1-score': 0.8793103448275862, 'support': 59}, '1': {'precision': 0.7333333333333333, 'recall': 0.7857142857142857, 'f1-score': 0.7586206896551724, 'support': 28}, 'accuracy': 0.8390804597701149, 'macro avg': {'precision': 0.8140350877192982, 'recall': 0.8250605326876513, 'f1-score': 0.8189655172413792, 'support': 87}, 'weighted avg': {'precision': 0.8427908852591247, 'recall': 0.8390804597701149, 'f1-score': 0.8404676971858898, 'support': 87}}\n"
     ]
    },
    {
     "data": {
      "text/plain": [
       "<AxesSubplot:>"
      ]
     },
     "execution_count": 67,
     "metadata": {},
     "output_type": "execute_result"
    },
    {
     "data": {
      "image/png": "[encoded data removed]",
      "text/plain": [
       "<Figure size 432x288 with 2 Axes>"
      ]
     },
     "metadata": {
      "needs_background": "light"
     },
     "output_type": "display_data"
    }
   ],
   "source": [
    "result = confusion_matrix(y_test, y_pred11)\n",
    "print(\"Confusion Matrix:\")\n",
    "print(result)\n",
    "result1 = classification_report(y_test, y_pred11, labels=labels, target_names=target_names, output_dict=True)\n",
    "print(\"Classification Report:\")\n",
    "print (result1)\n",
    "sns.heatmap(pd.DataFrame(result1).iloc[:-1, :].T, annot=True)"
   ]
  },
  {
   "cell_type": "code",
   "execution_count": 68,
   "id": "6f43384e-3ec0-4eba-ab18-a97b580b77c3",
   "metadata": {},
   "outputs": [
    {
     "data": {
      "image/png": "[encoded data removed]",
      "text/plain": [
       "<Figure size 432x288 with 2 Axes>"
      ]
     },
     "metadata": {
      "needs_background": "light"
     },
     "output_type": "display_data"
    }
   ],
   "source": [
    "cm_display = metrics.ConfusionMatrixDisplay(result, display_labels = [False, True])\n",
    "cm_display.plot()\n",
    "plt.show()"
   ]
  },
  {
   "cell_type": "code",
   "execution_count": 69,
   "id": "1e03672c-e346-4490-9f44-e2a23b79b48b",
   "metadata": {},
   "outputs": [
    {
     "name": "stdout",
     "output_type": "stream",
     "text": [
      "Accuracy: 0.690 (0.131)\n"
     ]
    }
   ],
   "source": [
    "#Cross validation \n",
    "# evaluate model\n",
    "scores = cross_val_score(clf, X_test, y_test, scoring='accuracy', cv=cv, n_jobs=-1)\n",
    "# report performance\n",
    "print('Accuracy: %.3f (%.3f)' % (mean(scores), std(scores)))"
   ]
  },
  {
   "cell_type": "code",
   "execution_count": 70,
   "id": "a5ebb10d-00ca-48d1-a0ba-32848d36f5d3",
   "metadata": {},
   "outputs": [
    {
     "name": "stdout",
     "output_type": "stream",
     "text": [
      "Accuracy: 0.541 (0.041)\n"
     ]
    }
   ],
   "source": [
    "# Stratified Cross validation \n",
    "# evaluate model\n",
    "scores = cross_val_score(clf, X_test, y_test, scoring='accuracy', cv=skf, n_jobs=-1)\n",
    "# report performance\n",
    "print('Accuracy: %.3f (%.3f)' % (mean(scores), std(scores)))"
   ]
  },
  {
   "cell_type": "markdown",
   "id": "5b33c82e-3e33-4d79-834f-ef7d62f1c374",
   "metadata": {},
   "source": [
    "# 8. AdaBoost Classifier"
   ]
  },
  {
   "cell_type": "code",
   "execution_count": 71,
   "id": "a1e8be07-ff15-48b0-a4d3-7a9351e7185f",
   "metadata": {},
   "outputs": [
    {
     "name": "stdout",
     "output_type": "stream",
     "text": [
      "Accuracy: 0.8045977011494253\n"
     ]
    }
   ],
   "source": [
    "clf2 = AdaBoostClassifier(n_estimators=100, algorithm=\"SAMME\", random_state=0)\n",
    "clf2.fit(X_train, y_train)\n",
    "y_pred12 = clf2.predict(X_test)\n",
    "accuracy = accuracy_score(y_test, y_pred12)\n",
    "print(\"Accuracy:\", accuracy)"
   ]
  },
  {
   "cell_type": "code",
   "execution_count": 72,
   "id": "4e7143ce-0b1f-4706-952d-a9312e0cd874",
   "metadata": {},
   "outputs": [
    {
     "name": "stdout",
     "output_type": "stream",
     "text": [
      "Confusion Matrix:\n",
      "[[53  6]\n",
      " [11 17]]\n",
      "Classification Report:\n",
      "{'0': {'precision': 0.828125, 'recall': 0.8983050847457628, 'f1-score': 0.8617886178861789, 'support': 59}, '1': {'precision': 0.7391304347826086, 'recall': 0.6071428571428571, 'f1-score': 0.6666666666666666, 'support': 28}, 'accuracy': 0.8045977011494253, 'macro avg': {'precision': 0.7836277173913043, 'recall': 0.7527239709443099, 'f1-score': 0.7642276422764227, 'support': 87}, 'weighted avg': {'precision': 0.7994830709645178, 'recall': 0.8045977011494253, 'f1-score': 0.7989907485281748, 'support': 87}}\n"
     ]
    },
    {
     "data": {
      "text/plain": [
       "<AxesSubplot:>"
      ]
     },
     "execution_count": 72,
     "metadata": {},
     "output_type": "execute_result"
    },
    {
     "data": {
      "image/png": "[encoded data removed]",
      "text/plain": [
       "<Figure size 432x288 with 2 Axes>"
      ]
     },
     "metadata": {
      "needs_background": "light"
     },
     "output_type": "display_data"
    }
   ],
   "source": [
    "result = confusion_matrix(y_test, y_pred12)\n",
    "print(\"Confusion Matrix:\")\n",
    "print(result)\n",
    "result1 = classification_report(y_test, y_pred12, labels=labels, target_names=target_names, output_dict=True)\n",
    "print(\"Classification Report:\")\n",
    "print (result1)\n",
    "sns.heatmap(pd.DataFrame(result1).iloc[:-1, :].T, annot=True)"
   ]
  },
  {
   "cell_type": "code",
   "execution_count": 73,
   "id": "756bfa36-66a7-4b0e-b5c4-81e15825610f",
   "metadata": {},
   "outputs": [
    {
     "data": {
      "image/png": "[encoded data removed]",
      "text/plain": [
       "<Figure size 432x288 with 2 Axes>"
      ]
     },
     "metadata": {
      "needs_background": "light"
     },
     "output_type": "display_data"
    }
   ],
   "source": [
    "cm_display = metrics.ConfusionMatrixDisplay(result, display_labels = [False, True])\n",
    "cm_display.plot()\n",
    "plt.show()"
   ]
  },
  {
   "cell_type": "code",
   "execution_count": 74,
   "id": "454809f0-8497-4dd6-b9cf-c1dab759205f",
   "metadata": {},
   "outputs": [
    {
     "name": "stdout",
     "output_type": "stream",
     "text": [
      "Accuracy: 0.711 (0.095)\n"
     ]
    }
   ],
   "source": [
    "#Cross validation \n",
    "# evaluate model\n",
    "scores = cross_val_score(clf2, X_test, y_test, scoring='accuracy', cv=cv, n_jobs=-1)\n",
    "# report performance\n",
    "print('Accuracy: %.3f (%.3f)' % (mean(scores), std(scores)))"
   ]
  },
  {
   "cell_type": "code",
   "execution_count": 75,
   "id": "3736bc6e-3db3-4c52-912e-4f65ee98f676",
   "metadata": {},
   "outputs": [
    {
     "name": "stdout",
     "output_type": "stream",
     "text": [
      "Accuracy: 0.667 (0.008)\n"
     ]
    }
   ],
   "source": [
    "# Stratified Cross validation \n",
    "# evaluate model\n",
    "scores = cross_val_score(clf2, X_test, y_test, scoring='accuracy', cv=skf, n_jobs=-1)\n",
    "# report performance\n",
    "print('Accuracy: %.3f (%.3f)' % (mean(scores), std(scores)))"
   ]
  },
  {
   "cell_type": "markdown",
   "id": "8bd561b1-8113-45cc-9692-22239082da8a",
   "metadata": {},
   "source": [
    "# 9. Bagging Classifier"
   ]
  },
  {
   "cell_type": "code",
   "execution_count": 80,
   "id": "49af56f6-ab3c-4d61-96a2-d5287d78f9fa",
   "metadata": {},
   "outputs": [
    {
     "name": "stdout",
     "output_type": "stream",
     "text": [
      "Accuracy: 0.8160919540229885\n"
     ]
    }
   ],
   "source": [
    "clf4 = BaggingClassifier(svc, n_estimators=10, random_state=0).fit(X_train, y_train)\n",
    "y_pred14 = clf4.predict(X_test)\n",
    "accuracy = accuracy_score(y_test, y_pred14)\n",
    "print(\"Accuracy:\", accuracy)"
   ]
  },
  {
   "cell_type": "code",
   "execution_count": 81,
   "id": "76ae8bee-878d-4ccb-8fab-07f967346e44",
   "metadata": {},
   "outputs": [
    {
     "name": "stdout",
     "output_type": "stream",
     "text": [
      "Confusion Matrix:\n",
      "[[51  8]\n",
      " [ 8 20]]\n",
      "Classification Report:\n",
      "{'0': {'precision': 0.864406779661017, 'recall': 0.864406779661017, 'f1-score': 0.864406779661017, 'support': 59}, '1': {'precision': 0.7142857142857143, 'recall': 0.7142857142857143, 'f1-score': 0.7142857142857143, 'support': 28}, 'accuracy': 0.8160919540229885, 'macro avg': {'precision': 0.7893462469733656, 'recall': 0.7893462469733656, 'f1-score': 0.7893462469733656, 'support': 87}, 'weighted avg': {'precision': 0.8160919540229885, 'recall': 0.8160919540229885, 'f1-score': 0.8160919540229885, 'support': 87}}\n"
     ]
    },
    {
     "data": {
      "text/plain": [
       "<AxesSubplot:>"
      ]
     },
     "execution_count": 81,
     "metadata": {},
     "output_type": "execute_result"
    },
    {
     "data": {
      "image/png": "[encoded data removed]",
      "text/plain": [
       "<Figure size 432x288 with 2 Axes>"
      ]
     },
     "metadata": {
      "needs_background": "light"
     },
     "output_type": "display_data"
    }
   ],
   "source": [
    "result = confusion_matrix(y_test, y_pred14)\n",
    "print(\"Confusion Matrix:\")\n",
    "print(result)\n",
    "result1 = classification_report(y_test, y_pred14, labels=labels, target_names=target_names, output_dict=True)\n",
    "print(\"Classification Report:\")\n",
    "print (result1)\n",
    "sns.heatmap(pd.DataFrame(result1).iloc[:-1, :].T, annot=True)"
   ]
  },
  {
   "cell_type": "code",
   "execution_count": 82,
   "id": "b0fc37d0-2e00-447b-90bd-c6b25a5e329a",
   "metadata": {},
   "outputs": [
    {
     "data": {
      "image/png": "[encoded data removed]",
      "text/plain": [
       "<Figure size 432x288 with 2 Axes>"
      ]
     },
     "metadata": {
      "needs_background": "light"
     },
     "output_type": "display_data"
    }
   ],
   "source": [
    "cm_display = metrics.ConfusionMatrixDisplay(result, display_labels = [False, True])\n",
    "cm_display.plot()\n",
    "plt.show()"
   ]
  },
  {
   "cell_type": "code",
   "execution_count": 83,
   "id": "8fccbd6f-8a7e-4bd9-b330-4c1b50b09c69",
   "metadata": {},
   "outputs": [
    {
     "name": "stdout",
     "output_type": "stream",
     "text": [
      "Accuracy: 0.653 (0.121)\n"
     ]
    }
   ],
   "source": [
    "#Cross validation \n",
    "# evaluate model\n",
    "scores = cross_val_score(clf4, X_test, y_test, scoring='accuracy', cv=cv, n_jobs=-1)\n",
    "# report performance\n",
    "print('Accuracy: %.3f (%.3f)' % (mean(scores), std(scores)))"
   ]
  },
  {
   "cell_type": "code",
   "execution_count": 84,
   "id": "3d6421e2-76ed-472c-9258-d86377b037af",
   "metadata": {},
   "outputs": [
    {
     "name": "stdout",
     "output_type": "stream",
     "text": [
      "Accuracy: 0.678 (0.004)\n"
     ]
    }
   ],
   "source": [
    "# Stratified Cross validation \n",
    "# evaluate model\n",
    "scores = cross_val_score(clf4, X_test, y_test, scoring='accuracy', cv=skf, n_jobs=-1)\n",
    "# report performance\n",
    "print('Accuracy: %.3f (%.3f)' % (mean(scores), std(scores)))"
   ]
  },
  {
   "cell_type": "markdown",
   "id": "687de8ea-25c2-44b3-90b5-1d796a6e46fb",
   "metadata": {},
   "source": [
    "# 10. Voting Classifier"
   ]
  },
  {
   "cell_type": "code",
   "execution_count": 85,
   "id": "61f92dfc-7ace-43fa-9700-633708d0cc45",
   "metadata": {},
   "outputs": [
    {
     "name": "stdout",
     "output_type": "stream",
     "text": [
      "Accuracy: 0.8160919540229885\n"
     ]
    }
   ],
   "source": [
    "#There are two modes for this one  \n",
    "eclf1 = VotingClassifier(estimators=[('lr', pipeline), ('rf', rfc), ('gnb', gnb)], voting='hard')\n",
    "eclf1.fit(X_train, y_train)\n",
    "y_pred15 = eclf1.predict(X_test)\n",
    "accuracy = accuracy_score(y_test, y_pred15)\n",
    "print(\"Accuracy:\", accuracy)"
   ]
  },
  {
   "cell_type": "code",
   "execution_count": 86,
   "id": "ca7eec80-2bc4-4ddf-bc83-add8a6b136e8",
   "metadata": {},
   "outputs": [
    {
     "name": "stdout",
     "output_type": "stream",
     "text": [
      "Confusion Matrix:\n",
      "[[50  9]\n",
      " [ 7 21]]\n",
      "Classification Report:\n",
      "{'0': {'precision': 0.8771929824561403, 'recall': 0.847457627118644, 'f1-score': 0.8620689655172413, 'support': 59}, '1': {'precision': 0.7, 'recall': 0.75, 'f1-score': 0.7241379310344827, 'support': 28}, 'accuracy': 0.8160919540229885, 'macro avg': {'precision': 0.7885964912280701, 'recall': 0.798728813559322, 'f1-score': 0.793103448275862, 'support': 87}, 'weighted avg': {'precision': 0.820165355918532, 'recall': 0.8160919540229885, 'f1-score': 0.8176773682124455, 'support': 87}}\n"
     ]
    },
    {
     "data": {
      "text/plain": [
       "<AxesSubplot:>"
      ]
     },
     "execution_count": 86,
     "metadata": {},
     "output_type": "execute_result"
    },
    {
     "data": {
      "image/png": "[encoded data removed]",
      "text/plain": [
       "<Figure size 432x288 with 2 Axes>"
      ]
     },
     "metadata": {
      "needs_background": "light"
     },
     "output_type": "display_data"
    }
   ],
   "source": [
    "result = confusion_matrix(y_test, y_pred15)\n",
    "print(\"Confusion Matrix:\")\n",
    "print(result)\n",
    "result1 = classification_report(y_test, y_pred15, labels=labels, target_names=target_names, output_dict=True)\n",
    "print(\"Classification Report:\")\n",
    "print (result1)\n",
    "sns.heatmap(pd.DataFrame(result1).iloc[:-1, :].T, annot=True)"
   ]
  },
  {
   "cell_type": "code",
   "execution_count": 87,
   "id": "e6109b1c-011f-4868-86af-bde6b1eb5533",
   "metadata": {},
   "outputs": [
    {
     "data": {
      "image/png": "[encoded data removed]",
      "text/plain": [
       "<Figure size 432x288 with 2 Axes>"
      ]
     },
     "metadata": {
      "needs_background": "light"
     },
     "output_type": "display_data"
    }
   ],
   "source": [
    "cm_display = metrics.ConfusionMatrixDisplay(result, display_labels = [False, True])\n",
    "cm_display.plot()\n",
    "plt.show()"
   ]
  },
  {
   "cell_type": "code",
   "execution_count": 88,
   "id": "056bda70-9c88-4114-ad9f-513a0db346f4",
   "metadata": {},
   "outputs": [
    {
     "name": "stdout",
     "output_type": "stream",
     "text": [
      "Accuracy: 0.757 (0.120)\n"
     ]
    }
   ],
   "source": [
    "#Cross validation \n",
    "# evaluate model\n",
    "scores = cross_val_score(eclf1, X_test, y_test, scoring='accuracy', cv=cv, n_jobs=-1)\n",
    "# report performance\n",
    "print('Accuracy: %.3f (%.3f)' % (mean(scores), std(scores)))"
   ]
  },
  {
   "cell_type": "code",
   "execution_count": 89,
   "id": "9c24712e-6720-4ee7-b2cc-8f46437f9a5d",
   "metadata": {
    "tags": []
   },
   "outputs": [
    {
     "name": "stdout",
     "output_type": "stream",
     "text": [
      "Accuracy: 0.724 (0.003)\n"
     ]
    }
   ],
   "source": [
    "# Stratified Cross validation \n",
    "# evaluate model\n",
    "scores = cross_val_score(eclf1, X_test, y_test, scoring='accuracy', cv=skf, n_jobs=-1)\n",
    "# report performance\n",
    "print('Accuracy: %.3f (%.3f)' % (mean(scores), std(scores)))"
   ]
  },
  {
   "cell_type": "markdown",
   "id": "da4ba735-2d2a-4375-9a09-637b1607a131",
   "metadata": {},
   "source": [
    "<div style=\"text-align: left\"> <h3>The algorithm with the most satisfying F1-score is the same as this one which has the best accuracy rate. This algorithm is the Gradient Boosting Classifier, which appears not to maintain its position in the hierarchy in the process. In Cross Validation, the Voting Classifier algorithm and indeed its strict form (Hard Voting), seems in both cases to bring the highest score. The Gradient Boosting Classifier has some of the best performance but not the best.</h3></div>"
   ]
  }
 ],
 "metadata": {
  "kernelspec": {
   "display_name": "Python 3 (ipykernel)",
   "language": "python",
   "name": "python3"
  },
  "language_info": {
   "codemirror_mode": {
    "name": "ipython",
    "version": 3
   },
   "file_extension": ".py",
   "mimetype": "text/x-python",
   "name": "python",
   "nbconvert_exporter": "python",
   "pygments_lexer": "ipython3",
   "version": "3.9.12"
  }
 },
 "nbformat": 4,
 "nbformat_minor": 5
}
